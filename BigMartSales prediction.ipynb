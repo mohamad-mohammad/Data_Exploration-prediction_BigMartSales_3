{
  "nbformat": 4,
  "nbformat_minor": 0,
  "metadata": {
    "colab": {
      "name": "Untitled.ipynb",
      "version": "0.3.2",
      "provenance": [],
      "toc_visible": true
    },
    "language_info": {
      "codemirror_mode": {
        "name": "ipython",
        "version": 3
      },
      "file_extension": ".py",
      "mimetype": "text/x-python",
      "name": "python",
      "nbconvert_exporter": "python",
      "pygments_lexer": "ipython3",
      "version": "3.6.4"
    },
    "kernelspec": {
      "display_name": "Python 3",
      "language": "python",
      "name": "python3"
    }
  },
  "cells": [
    {
      "cell_type": "code",
      "metadata": {
        "id": "99BSOAUuCtxj",
        "colab_type": "code",
        "colab": {}
      },
      "source": [
        "import numpy as np\n",
        "import pandas as pd\n",
        "import random\n",
        "import matplotlib.pyplot as plt\n",
        "%matplotlib inline\n",
        "import seaborn as sns"
      ],
      "execution_count": 0,
      "outputs": []
    },
    {
      "cell_type": "code",
      "metadata": {
        "id": "3706FnIdFciR",
        "colab_type": "code",
        "outputId": "42c70e4a-894f-47ec-e5a7-0d24fe61bb70",
        "colab": {
          "base_uri": "https://localhost:8080/",
          "height": 224
        }
      },
      "source": [
        "!pip install category_encoders"
      ],
      "execution_count": 3,
      "outputs": [
        {
          "output_type": "stream",
          "text": [
            "Requirement already satisfied: category_encoders in /usr/local/lib/python3.6/dist-packages (2.0.0)\n",
            "Requirement already satisfied: numpy>=1.11.3 in /usr/local/lib/python3.6/dist-packages (from category_encoders) (1.16.4)\n",
            "Requirement already satisfied: scikit-learn>=0.20.0 in /usr/local/lib/python3.6/dist-packages (from category_encoders) (0.21.2)\n",
            "Requirement already satisfied: pandas>=0.21.1 in /usr/local/lib/python3.6/dist-packages (from category_encoders) (0.24.2)\n",
            "Requirement already satisfied: statsmodels>=0.6.1 in /usr/local/lib/python3.6/dist-packages (from category_encoders) (0.10.0)\n",
            "Requirement already satisfied: scipy>=0.19.0 in /usr/local/lib/python3.6/dist-packages (from category_encoders) (1.3.0)\n",
            "Requirement already satisfied: patsy>=0.4.1 in /usr/local/lib/python3.6/dist-packages (from category_encoders) (0.5.1)\n",
            "Requirement already satisfied: joblib>=0.11 in /usr/local/lib/python3.6/dist-packages (from scikit-learn>=0.20.0->category_encoders) (0.13.2)\n",
            "Requirement already satisfied: python-dateutil>=2.5.0 in /usr/local/lib/python3.6/dist-packages (from pandas>=0.21.1->category_encoders) (2.5.3)\n",
            "Requirement already satisfied: pytz>=2011k in /usr/local/lib/python3.6/dist-packages (from pandas>=0.21.1->category_encoders) (2018.9)\n",
            "Requirement already satisfied: six in /usr/local/lib/python3.6/dist-packages (from patsy>=0.4.1->category_encoders) (1.12.0)\n"
          ],
          "name": "stdout"
        }
      ]
    },
    {
      "cell_type": "code",
      "metadata": {
        "id": "Nrd3GJhq-_gV",
        "colab_type": "code",
        "outputId": "821357db-bed8-42f4-dea3-0d753f87506b",
        "colab": {
          "base_uri": "https://localhost:8080/",
          "height": 1000
        }
      },
      "source": [
        "!pip install catboost\n",
        "!pip install ipywidgets\n"
      ],
      "execution_count": 4,
      "outputs": [
        {
          "output_type": "stream",
          "text": [
            "Requirement already satisfied: catboost in /usr/local/lib/python3.6/dist-packages (0.15.2)\n",
            "Requirement already satisfied: matplotlib in /usr/local/lib/python3.6/dist-packages (from catboost) (3.0.3)\n",
            "Requirement already satisfied: numpy>=1.16.0 in /usr/local/lib/python3.6/dist-packages (from catboost) (1.16.4)\n",
            "Requirement already satisfied: graphviz in /usr/local/lib/python3.6/dist-packages (from catboost) (0.10.1)\n",
            "Requirement already satisfied: six in /usr/local/lib/python3.6/dist-packages (from catboost) (1.12.0)\n",
            "Requirement already satisfied: pandas>=0.19.1 in /usr/local/lib/python3.6/dist-packages (from catboost) (0.24.2)\n",
            "Requirement already satisfied: plotly in /usr/local/lib/python3.6/dist-packages (from catboost) (3.6.1)\n",
            "Requirement already satisfied: python-dateutil>=2.1 in /usr/local/lib/python3.6/dist-packages (from matplotlib->catboost) (2.5.3)\n",
            "Requirement already satisfied: pyparsing!=2.0.4,!=2.1.2,!=2.1.6,>=2.0.1 in /usr/local/lib/python3.6/dist-packages (from matplotlib->catboost) (2.4.0)\n",
            "Requirement already satisfied: cycler>=0.10 in /usr/local/lib/python3.6/dist-packages (from matplotlib->catboost) (0.10.0)\n",
            "Requirement already satisfied: kiwisolver>=1.0.1 in /usr/local/lib/python3.6/dist-packages (from matplotlib->catboost) (1.1.0)\n",
            "Requirement already satisfied: pytz>=2011k in /usr/local/lib/python3.6/dist-packages (from pandas>=0.19.1->catboost) (2018.9)\n",
            "Requirement already satisfied: decorator>=4.0.6 in /usr/local/lib/python3.6/dist-packages (from plotly->catboost) (4.4.0)\n",
            "Requirement already satisfied: requests in /usr/local/lib/python3.6/dist-packages (from plotly->catboost) (2.21.0)\n",
            "Requirement already satisfied: retrying>=1.3.3 in /usr/local/lib/python3.6/dist-packages (from plotly->catboost) (1.3.3)\n",
            "Requirement already satisfied: nbformat>=4.2 in /usr/local/lib/python3.6/dist-packages (from plotly->catboost) (4.4.0)\n",
            "Requirement already satisfied: setuptools in /usr/local/lib/python3.6/dist-packages (from kiwisolver>=1.0.1->matplotlib->catboost) (41.0.1)\n",
            "Requirement already satisfied: urllib3<1.25,>=1.21.1 in /usr/local/lib/python3.6/dist-packages (from requests->plotly->catboost) (1.24.3)\n",
            "Requirement already satisfied: chardet<3.1.0,>=3.0.2 in /usr/local/lib/python3.6/dist-packages (from requests->plotly->catboost) (3.0.4)\n",
            "Requirement already satisfied: certifi>=2017.4.17 in /usr/local/lib/python3.6/dist-packages (from requests->plotly->catboost) (2019.6.16)\n",
            "Requirement already satisfied: idna<2.9,>=2.5 in /usr/local/lib/python3.6/dist-packages (from requests->plotly->catboost) (2.8)\n",
            "Requirement already satisfied: jupyter-core in /usr/local/lib/python3.6/dist-packages (from nbformat>=4.2->plotly->catboost) (4.5.0)\n",
            "Requirement already satisfied: traitlets>=4.1 in /usr/local/lib/python3.6/dist-packages (from nbformat>=4.2->plotly->catboost) (4.3.2)\n",
            "Requirement already satisfied: jsonschema!=2.5.0,>=2.4 in /usr/local/lib/python3.6/dist-packages (from nbformat>=4.2->plotly->catboost) (2.6.0)\n",
            "Requirement already satisfied: ipython-genutils in /usr/local/lib/python3.6/dist-packages (from nbformat>=4.2->plotly->catboost) (0.2.0)\n",
            "Requirement already satisfied: ipywidgets in /usr/local/lib/python3.6/dist-packages (7.5.0)\n",
            "Requirement already satisfied: ipython>=4.0.0; python_version >= \"3.3\" in /usr/local/lib/python3.6/dist-packages (from ipywidgets) (5.5.0)\n",
            "Requirement already satisfied: nbformat>=4.2.0 in /usr/local/lib/python3.6/dist-packages (from ipywidgets) (4.4.0)\n",
            "Requirement already satisfied: traitlets>=4.3.1 in /usr/local/lib/python3.6/dist-packages (from ipywidgets) (4.3.2)\n",
            "Requirement already satisfied: ipykernel>=4.5.1 in /usr/local/lib/python3.6/dist-packages (from ipywidgets) (4.6.1)\n",
            "Requirement already satisfied: widgetsnbextension~=3.5.0 in /usr/local/lib/python3.6/dist-packages (from ipywidgets) (3.5.0)\n",
            "Requirement already satisfied: pygments in /usr/local/lib/python3.6/dist-packages (from ipython>=4.0.0; python_version >= \"3.3\"->ipywidgets) (2.1.3)\n",
            "Requirement already satisfied: simplegeneric>0.8 in /usr/local/lib/python3.6/dist-packages (from ipython>=4.0.0; python_version >= \"3.3\"->ipywidgets) (0.8.1)\n",
            "Requirement already satisfied: setuptools>=18.5 in /usr/local/lib/python3.6/dist-packages (from ipython>=4.0.0; python_version >= \"3.3\"->ipywidgets) (41.0.1)\n",
            "Requirement already satisfied: pexpect; sys_platform != \"win32\" in /usr/local/lib/python3.6/dist-packages (from ipython>=4.0.0; python_version >= \"3.3\"->ipywidgets) (4.7.0)\n",
            "Requirement already satisfied: pickleshare in /usr/local/lib/python3.6/dist-packages (from ipython>=4.0.0; python_version >= \"3.3\"->ipywidgets) (0.7.5)\n",
            "Requirement already satisfied: decorator in /usr/local/lib/python3.6/dist-packages (from ipython>=4.0.0; python_version >= \"3.3\"->ipywidgets) (4.4.0)\n",
            "Requirement already satisfied: prompt-toolkit<2.0.0,>=1.0.4 in /usr/local/lib/python3.6/dist-packages (from ipython>=4.0.0; python_version >= \"3.3\"->ipywidgets) (1.0.16)\n",
            "Requirement already satisfied: jsonschema!=2.5.0,>=2.4 in /usr/local/lib/python3.6/dist-packages (from nbformat>=4.2.0->ipywidgets) (2.6.0)\n",
            "Requirement already satisfied: ipython-genutils in /usr/local/lib/python3.6/dist-packages (from nbformat>=4.2.0->ipywidgets) (0.2.0)\n",
            "Requirement already satisfied: jupyter-core in /usr/local/lib/python3.6/dist-packages (from nbformat>=4.2.0->ipywidgets) (4.5.0)\n",
            "Requirement already satisfied: six in /usr/local/lib/python3.6/dist-packages (from traitlets>=4.3.1->ipywidgets) (1.12.0)\n",
            "Requirement already satisfied: jupyter-client in /usr/local/lib/python3.6/dist-packages (from ipykernel>=4.5.1->ipywidgets) (5.3.1)\n",
            "Requirement already satisfied: tornado>=4.0 in /usr/local/lib/python3.6/dist-packages (from ipykernel>=4.5.1->ipywidgets) (4.5.3)\n",
            "Requirement already satisfied: notebook>=4.4.1 in /usr/local/lib/python3.6/dist-packages (from widgetsnbextension~=3.5.0->ipywidgets) (5.2.2)\n",
            "Requirement already satisfied: ptyprocess>=0.5 in /usr/local/lib/python3.6/dist-packages (from pexpect; sys_platform != \"win32\"->ipython>=4.0.0; python_version >= \"3.3\"->ipywidgets) (0.6.0)\n",
            "Requirement already satisfied: wcwidth in /usr/local/lib/python3.6/dist-packages (from prompt-toolkit<2.0.0,>=1.0.4->ipython>=4.0.0; python_version >= \"3.3\"->ipywidgets) (0.1.7)\n",
            "Requirement already satisfied: python-dateutil>=2.1 in /usr/local/lib/python3.6/dist-packages (from jupyter-client->ipykernel>=4.5.1->ipywidgets) (2.5.3)\n",
            "Requirement already satisfied: pyzmq>=13 in /usr/local/lib/python3.6/dist-packages (from jupyter-client->ipykernel>=4.5.1->ipywidgets) (17.0.0)\n",
            "Requirement already satisfied: jinja2 in /usr/local/lib/python3.6/dist-packages (from notebook>=4.4.1->widgetsnbextension~=3.5.0->ipywidgets) (2.10.1)\n",
            "Requirement already satisfied: terminado>=0.3.3; sys_platform != \"win32\" in /usr/local/lib/python3.6/dist-packages (from notebook>=4.4.1->widgetsnbextension~=3.5.0->ipywidgets) (0.8.2)\n",
            "Requirement already satisfied: nbconvert in /usr/local/lib/python3.6/dist-packages (from notebook>=4.4.1->widgetsnbextension~=3.5.0->ipywidgets) (5.5.0)\n",
            "Requirement already satisfied: MarkupSafe>=0.23 in /usr/local/lib/python3.6/dist-packages (from jinja2->notebook>=4.4.1->widgetsnbextension~=3.5.0->ipywidgets) (1.1.1)\n",
            "Requirement already satisfied: pandocfilters>=1.4.1 in /usr/local/lib/python3.6/dist-packages (from nbconvert->notebook>=4.4.1->widgetsnbextension~=3.5.0->ipywidgets) (1.4.2)\n",
            "Requirement already satisfied: testpath in /usr/local/lib/python3.6/dist-packages (from nbconvert->notebook>=4.4.1->widgetsnbextension~=3.5.0->ipywidgets) (0.4.2)\n",
            "Requirement already satisfied: defusedxml in /usr/local/lib/python3.6/dist-packages (from nbconvert->notebook>=4.4.1->widgetsnbextension~=3.5.0->ipywidgets) (0.6.0)\n",
            "Requirement already satisfied: entrypoints>=0.2.2 in /usr/local/lib/python3.6/dist-packages (from nbconvert->notebook>=4.4.1->widgetsnbextension~=3.5.0->ipywidgets) (0.3)\n",
            "Requirement already satisfied: bleach in /usr/local/lib/python3.6/dist-packages (from nbconvert->notebook>=4.4.1->widgetsnbextension~=3.5.0->ipywidgets) (3.1.0)\n",
            "Requirement already satisfied: mistune>=0.8.1 in /usr/local/lib/python3.6/dist-packages (from nbconvert->notebook>=4.4.1->widgetsnbextension~=3.5.0->ipywidgets) (0.8.4)\n",
            "Requirement already satisfied: webencodings in /usr/local/lib/python3.6/dist-packages (from bleach->nbconvert->notebook>=4.4.1->widgetsnbextension~=3.5.0->ipywidgets) (0.5.1)\n"
          ],
          "name": "stdout"
        }
      ]
    },
    {
      "cell_type": "code",
      "metadata": {
        "id": "haywbi5fCtxr",
        "colab_type": "code",
        "outputId": "d5c452e1-1e69-471f-c349-d5e8504158f8",
        "colab": {
          "base_uri": "https://localhost:8080/",
          "height": 1000
        }
      },
      "source": [
        "train_df = pd.read_csv('Train.csv')\n",
        "test_df = pd.read_csv('Test.csv')\n",
        "\n",
        "train_df.head(50)"
      ],
      "execution_count": 5,
      "outputs": [
        {
          "output_type": "execute_result",
          "data": {
            "text/html": [
              "<div>\n",
              "<style scoped>\n",
              "    .dataframe tbody tr th:only-of-type {\n",
              "        vertical-align: middle;\n",
              "    }\n",
              "\n",
              "    .dataframe tbody tr th {\n",
              "        vertical-align: top;\n",
              "    }\n",
              "\n",
              "    .dataframe thead th {\n",
              "        text-align: right;\n",
              "    }\n",
              "</style>\n",
              "<table border=\"1\" class=\"dataframe\">\n",
              "  <thead>\n",
              "    <tr style=\"text-align: right;\">\n",
              "      <th></th>\n",
              "      <th>Item_Identifier</th>\n",
              "      <th>Item_Weight</th>\n",
              "      <th>Item_Fat_Content</th>\n",
              "      <th>Item_Visibility</th>\n",
              "      <th>Item_Type</th>\n",
              "      <th>Item_MRP</th>\n",
              "      <th>Outlet_Identifier</th>\n",
              "      <th>Outlet_Establishment_Year</th>\n",
              "      <th>Outlet_Size</th>\n",
              "      <th>Outlet_Location_Type</th>\n",
              "      <th>Outlet_Type</th>\n",
              "      <th>Item_Outlet_Sales</th>\n",
              "    </tr>\n",
              "  </thead>\n",
              "  <tbody>\n",
              "    <tr>\n",
              "      <th>0</th>\n",
              "      <td>FDA15</td>\n",
              "      <td>9.300</td>\n",
              "      <td>Low Fat</td>\n",
              "      <td>0.016047</td>\n",
              "      <td>Dairy</td>\n",
              "      <td>249.8092</td>\n",
              "      <td>OUT049</td>\n",
              "      <td>1999</td>\n",
              "      <td>Medium</td>\n",
              "      <td>Tier 1</td>\n",
              "      <td>Supermarket Type1</td>\n",
              "      <td>3735.1380</td>\n",
              "    </tr>\n",
              "    <tr>\n",
              "      <th>1</th>\n",
              "      <td>DRC01</td>\n",
              "      <td>5.920</td>\n",
              "      <td>Regular</td>\n",
              "      <td>0.019278</td>\n",
              "      <td>Soft Drinks</td>\n",
              "      <td>48.2692</td>\n",
              "      <td>OUT018</td>\n",
              "      <td>2009</td>\n",
              "      <td>Medium</td>\n",
              "      <td>Tier 3</td>\n",
              "      <td>Supermarket Type2</td>\n",
              "      <td>443.4228</td>\n",
              "    </tr>\n",
              "    <tr>\n",
              "      <th>2</th>\n",
              "      <td>FDN15</td>\n",
              "      <td>17.500</td>\n",
              "      <td>Low Fat</td>\n",
              "      <td>0.016760</td>\n",
              "      <td>Meat</td>\n",
              "      <td>141.6180</td>\n",
              "      <td>OUT049</td>\n",
              "      <td>1999</td>\n",
              "      <td>Medium</td>\n",
              "      <td>Tier 1</td>\n",
              "      <td>Supermarket Type1</td>\n",
              "      <td>2097.2700</td>\n",
              "    </tr>\n",
              "    <tr>\n",
              "      <th>3</th>\n",
              "      <td>FDX07</td>\n",
              "      <td>19.200</td>\n",
              "      <td>Regular</td>\n",
              "      <td>0.000000</td>\n",
              "      <td>Fruits and Vegetables</td>\n",
              "      <td>182.0950</td>\n",
              "      <td>OUT010</td>\n",
              "      <td>1998</td>\n",
              "      <td>NaN</td>\n",
              "      <td>Tier 3</td>\n",
              "      <td>Grocery Store</td>\n",
              "      <td>732.3800</td>\n",
              "    </tr>\n",
              "    <tr>\n",
              "      <th>4</th>\n",
              "      <td>NCD19</td>\n",
              "      <td>8.930</td>\n",
              "      <td>Low Fat</td>\n",
              "      <td>0.000000</td>\n",
              "      <td>Household</td>\n",
              "      <td>53.8614</td>\n",
              "      <td>OUT013</td>\n",
              "      <td>1987</td>\n",
              "      <td>High</td>\n",
              "      <td>Tier 3</td>\n",
              "      <td>Supermarket Type1</td>\n",
              "      <td>994.7052</td>\n",
              "    </tr>\n",
              "    <tr>\n",
              "      <th>5</th>\n",
              "      <td>FDP36</td>\n",
              "      <td>10.395</td>\n",
              "      <td>Regular</td>\n",
              "      <td>0.000000</td>\n",
              "      <td>Baking Goods</td>\n",
              "      <td>51.4008</td>\n",
              "      <td>OUT018</td>\n",
              "      <td>2009</td>\n",
              "      <td>Medium</td>\n",
              "      <td>Tier 3</td>\n",
              "      <td>Supermarket Type2</td>\n",
              "      <td>556.6088</td>\n",
              "    </tr>\n",
              "    <tr>\n",
              "      <th>6</th>\n",
              "      <td>FDO10</td>\n",
              "      <td>13.650</td>\n",
              "      <td>Regular</td>\n",
              "      <td>0.012741</td>\n",
              "      <td>Snack Foods</td>\n",
              "      <td>57.6588</td>\n",
              "      <td>OUT013</td>\n",
              "      <td>1987</td>\n",
              "      <td>High</td>\n",
              "      <td>Tier 3</td>\n",
              "      <td>Supermarket Type1</td>\n",
              "      <td>343.5528</td>\n",
              "    </tr>\n",
              "    <tr>\n",
              "      <th>7</th>\n",
              "      <td>FDP10</td>\n",
              "      <td>NaN</td>\n",
              "      <td>Low Fat</td>\n",
              "      <td>0.127470</td>\n",
              "      <td>Snack Foods</td>\n",
              "      <td>107.7622</td>\n",
              "      <td>OUT027</td>\n",
              "      <td>1985</td>\n",
              "      <td>Medium</td>\n",
              "      <td>Tier 3</td>\n",
              "      <td>Supermarket Type3</td>\n",
              "      <td>4022.7636</td>\n",
              "    </tr>\n",
              "    <tr>\n",
              "      <th>8</th>\n",
              "      <td>FDH17</td>\n",
              "      <td>16.200</td>\n",
              "      <td>Regular</td>\n",
              "      <td>0.016687</td>\n",
              "      <td>Frozen Foods</td>\n",
              "      <td>96.9726</td>\n",
              "      <td>OUT045</td>\n",
              "      <td>2002</td>\n",
              "      <td>NaN</td>\n",
              "      <td>Tier 2</td>\n",
              "      <td>Supermarket Type1</td>\n",
              "      <td>1076.5986</td>\n",
              "    </tr>\n",
              "    <tr>\n",
              "      <th>9</th>\n",
              "      <td>FDU28</td>\n",
              "      <td>19.200</td>\n",
              "      <td>Regular</td>\n",
              "      <td>0.094450</td>\n",
              "      <td>Frozen Foods</td>\n",
              "      <td>187.8214</td>\n",
              "      <td>OUT017</td>\n",
              "      <td>2007</td>\n",
              "      <td>NaN</td>\n",
              "      <td>Tier 2</td>\n",
              "      <td>Supermarket Type1</td>\n",
              "      <td>4710.5350</td>\n",
              "    </tr>\n",
              "    <tr>\n",
              "      <th>10</th>\n",
              "      <td>FDY07</td>\n",
              "      <td>11.800</td>\n",
              "      <td>Low Fat</td>\n",
              "      <td>0.000000</td>\n",
              "      <td>Fruits and Vegetables</td>\n",
              "      <td>45.5402</td>\n",
              "      <td>OUT049</td>\n",
              "      <td>1999</td>\n",
              "      <td>Medium</td>\n",
              "      <td>Tier 1</td>\n",
              "      <td>Supermarket Type1</td>\n",
              "      <td>1516.0266</td>\n",
              "    </tr>\n",
              "    <tr>\n",
              "      <th>11</th>\n",
              "      <td>FDA03</td>\n",
              "      <td>18.500</td>\n",
              "      <td>Regular</td>\n",
              "      <td>0.045464</td>\n",
              "      <td>Dairy</td>\n",
              "      <td>144.1102</td>\n",
              "      <td>OUT046</td>\n",
              "      <td>1997</td>\n",
              "      <td>Small</td>\n",
              "      <td>Tier 1</td>\n",
              "      <td>Supermarket Type1</td>\n",
              "      <td>2187.1530</td>\n",
              "    </tr>\n",
              "    <tr>\n",
              "      <th>12</th>\n",
              "      <td>FDX32</td>\n",
              "      <td>15.100</td>\n",
              "      <td>Regular</td>\n",
              "      <td>0.100014</td>\n",
              "      <td>Fruits and Vegetables</td>\n",
              "      <td>145.4786</td>\n",
              "      <td>OUT049</td>\n",
              "      <td>1999</td>\n",
              "      <td>Medium</td>\n",
              "      <td>Tier 1</td>\n",
              "      <td>Supermarket Type1</td>\n",
              "      <td>1589.2646</td>\n",
              "    </tr>\n",
              "    <tr>\n",
              "      <th>13</th>\n",
              "      <td>FDS46</td>\n",
              "      <td>17.600</td>\n",
              "      <td>Regular</td>\n",
              "      <td>0.047257</td>\n",
              "      <td>Snack Foods</td>\n",
              "      <td>119.6782</td>\n",
              "      <td>OUT046</td>\n",
              "      <td>1997</td>\n",
              "      <td>Small</td>\n",
              "      <td>Tier 1</td>\n",
              "      <td>Supermarket Type1</td>\n",
              "      <td>2145.2076</td>\n",
              "    </tr>\n",
              "    <tr>\n",
              "      <th>14</th>\n",
              "      <td>FDF32</td>\n",
              "      <td>16.350</td>\n",
              "      <td>Low Fat</td>\n",
              "      <td>0.068024</td>\n",
              "      <td>Fruits and Vegetables</td>\n",
              "      <td>196.4426</td>\n",
              "      <td>OUT013</td>\n",
              "      <td>1987</td>\n",
              "      <td>High</td>\n",
              "      <td>Tier 3</td>\n",
              "      <td>Supermarket Type1</td>\n",
              "      <td>1977.4260</td>\n",
              "    </tr>\n",
              "    <tr>\n",
              "      <th>15</th>\n",
              "      <td>FDP49</td>\n",
              "      <td>9.000</td>\n",
              "      <td>Regular</td>\n",
              "      <td>0.069089</td>\n",
              "      <td>Breakfast</td>\n",
              "      <td>56.3614</td>\n",
              "      <td>OUT046</td>\n",
              "      <td>1997</td>\n",
              "      <td>Small</td>\n",
              "      <td>Tier 1</td>\n",
              "      <td>Supermarket Type1</td>\n",
              "      <td>1547.3192</td>\n",
              "    </tr>\n",
              "    <tr>\n",
              "      <th>16</th>\n",
              "      <td>NCB42</td>\n",
              "      <td>11.800</td>\n",
              "      <td>Low Fat</td>\n",
              "      <td>0.008596</td>\n",
              "      <td>Health and Hygiene</td>\n",
              "      <td>115.3492</td>\n",
              "      <td>OUT018</td>\n",
              "      <td>2009</td>\n",
              "      <td>Medium</td>\n",
              "      <td>Tier 3</td>\n",
              "      <td>Supermarket Type2</td>\n",
              "      <td>1621.8888</td>\n",
              "    </tr>\n",
              "    <tr>\n",
              "      <th>17</th>\n",
              "      <td>FDP49</td>\n",
              "      <td>9.000</td>\n",
              "      <td>Regular</td>\n",
              "      <td>0.069196</td>\n",
              "      <td>Breakfast</td>\n",
              "      <td>54.3614</td>\n",
              "      <td>OUT049</td>\n",
              "      <td>1999</td>\n",
              "      <td>Medium</td>\n",
              "      <td>Tier 1</td>\n",
              "      <td>Supermarket Type1</td>\n",
              "      <td>718.3982</td>\n",
              "    </tr>\n",
              "    <tr>\n",
              "      <th>18</th>\n",
              "      <td>DRI11</td>\n",
              "      <td>NaN</td>\n",
              "      <td>Low Fat</td>\n",
              "      <td>0.034238</td>\n",
              "      <td>Hard Drinks</td>\n",
              "      <td>113.2834</td>\n",
              "      <td>OUT027</td>\n",
              "      <td>1985</td>\n",
              "      <td>Medium</td>\n",
              "      <td>Tier 3</td>\n",
              "      <td>Supermarket Type3</td>\n",
              "      <td>2303.6680</td>\n",
              "    </tr>\n",
              "    <tr>\n",
              "      <th>19</th>\n",
              "      <td>FDU02</td>\n",
              "      <td>13.350</td>\n",
              "      <td>Low Fat</td>\n",
              "      <td>0.102492</td>\n",
              "      <td>Dairy</td>\n",
              "      <td>230.5352</td>\n",
              "      <td>OUT035</td>\n",
              "      <td>2004</td>\n",
              "      <td>Small</td>\n",
              "      <td>Tier 2</td>\n",
              "      <td>Supermarket Type1</td>\n",
              "      <td>2748.4224</td>\n",
              "    </tr>\n",
              "    <tr>\n",
              "      <th>20</th>\n",
              "      <td>FDN22</td>\n",
              "      <td>18.850</td>\n",
              "      <td>Regular</td>\n",
              "      <td>0.138190</td>\n",
              "      <td>Snack Foods</td>\n",
              "      <td>250.8724</td>\n",
              "      <td>OUT013</td>\n",
              "      <td>1987</td>\n",
              "      <td>High</td>\n",
              "      <td>Tier 3</td>\n",
              "      <td>Supermarket Type1</td>\n",
              "      <td>3775.0860</td>\n",
              "    </tr>\n",
              "    <tr>\n",
              "      <th>21</th>\n",
              "      <td>FDW12</td>\n",
              "      <td>NaN</td>\n",
              "      <td>Regular</td>\n",
              "      <td>0.035400</td>\n",
              "      <td>Baking Goods</td>\n",
              "      <td>144.5444</td>\n",
              "      <td>OUT027</td>\n",
              "      <td>1985</td>\n",
              "      <td>Medium</td>\n",
              "      <td>Tier 3</td>\n",
              "      <td>Supermarket Type3</td>\n",
              "      <td>4064.0432</td>\n",
              "    </tr>\n",
              "    <tr>\n",
              "      <th>22</th>\n",
              "      <td>NCB30</td>\n",
              "      <td>14.600</td>\n",
              "      <td>Low Fat</td>\n",
              "      <td>0.025698</td>\n",
              "      <td>Household</td>\n",
              "      <td>196.5084</td>\n",
              "      <td>OUT035</td>\n",
              "      <td>2004</td>\n",
              "      <td>Small</td>\n",
              "      <td>Tier 2</td>\n",
              "      <td>Supermarket Type1</td>\n",
              "      <td>1587.2672</td>\n",
              "    </tr>\n",
              "    <tr>\n",
              "      <th>23</th>\n",
              "      <td>FDC37</td>\n",
              "      <td>NaN</td>\n",
              "      <td>Low Fat</td>\n",
              "      <td>0.057557</td>\n",
              "      <td>Baking Goods</td>\n",
              "      <td>107.6938</td>\n",
              "      <td>OUT019</td>\n",
              "      <td>1985</td>\n",
              "      <td>Small</td>\n",
              "      <td>Tier 1</td>\n",
              "      <td>Grocery Store</td>\n",
              "      <td>214.3876</td>\n",
              "    </tr>\n",
              "    <tr>\n",
              "      <th>24</th>\n",
              "      <td>FDR28</td>\n",
              "      <td>13.850</td>\n",
              "      <td>Regular</td>\n",
              "      <td>0.025896</td>\n",
              "      <td>Frozen Foods</td>\n",
              "      <td>165.0210</td>\n",
              "      <td>OUT046</td>\n",
              "      <td>1997</td>\n",
              "      <td>Small</td>\n",
              "      <td>Tier 1</td>\n",
              "      <td>Supermarket Type1</td>\n",
              "      <td>4078.0250</td>\n",
              "    </tr>\n",
              "    <tr>\n",
              "      <th>25</th>\n",
              "      <td>NCD06</td>\n",
              "      <td>13.000</td>\n",
              "      <td>Low Fat</td>\n",
              "      <td>0.099887</td>\n",
              "      <td>Household</td>\n",
              "      <td>45.9060</td>\n",
              "      <td>OUT017</td>\n",
              "      <td>2007</td>\n",
              "      <td>NaN</td>\n",
              "      <td>Tier 2</td>\n",
              "      <td>Supermarket Type1</td>\n",
              "      <td>838.9080</td>\n",
              "    </tr>\n",
              "    <tr>\n",
              "      <th>26</th>\n",
              "      <td>FDV10</td>\n",
              "      <td>7.645</td>\n",
              "      <td>Regular</td>\n",
              "      <td>0.066693</td>\n",
              "      <td>Snack Foods</td>\n",
              "      <td>42.3112</td>\n",
              "      <td>OUT035</td>\n",
              "      <td>2004</td>\n",
              "      <td>Small</td>\n",
              "      <td>Tier 2</td>\n",
              "      <td>Supermarket Type1</td>\n",
              "      <td>1065.2800</td>\n",
              "    </tr>\n",
              "    <tr>\n",
              "      <th>27</th>\n",
              "      <td>DRJ59</td>\n",
              "      <td>11.650</td>\n",
              "      <td>low fat</td>\n",
              "      <td>0.019356</td>\n",
              "      <td>Hard Drinks</td>\n",
              "      <td>39.1164</td>\n",
              "      <td>OUT013</td>\n",
              "      <td>1987</td>\n",
              "      <td>High</td>\n",
              "      <td>Tier 3</td>\n",
              "      <td>Supermarket Type1</td>\n",
              "      <td>308.9312</td>\n",
              "    </tr>\n",
              "    <tr>\n",
              "      <th>28</th>\n",
              "      <td>FDE51</td>\n",
              "      <td>5.925</td>\n",
              "      <td>Regular</td>\n",
              "      <td>0.161467</td>\n",
              "      <td>Dairy</td>\n",
              "      <td>45.5086</td>\n",
              "      <td>OUT010</td>\n",
              "      <td>1998</td>\n",
              "      <td>NaN</td>\n",
              "      <td>Tier 3</td>\n",
              "      <td>Grocery Store</td>\n",
              "      <td>178.4344</td>\n",
              "    </tr>\n",
              "    <tr>\n",
              "      <th>29</th>\n",
              "      <td>FDC14</td>\n",
              "      <td>NaN</td>\n",
              "      <td>Regular</td>\n",
              "      <td>0.072222</td>\n",
              "      <td>Canned</td>\n",
              "      <td>43.6454</td>\n",
              "      <td>OUT019</td>\n",
              "      <td>1985</td>\n",
              "      <td>Small</td>\n",
              "      <td>Tier 1</td>\n",
              "      <td>Grocery Store</td>\n",
              "      <td>125.8362</td>\n",
              "    </tr>\n",
              "    <tr>\n",
              "      <th>30</th>\n",
              "      <td>FDV38</td>\n",
              "      <td>19.250</td>\n",
              "      <td>Low Fat</td>\n",
              "      <td>0.170349</td>\n",
              "      <td>Dairy</td>\n",
              "      <td>55.7956</td>\n",
              "      <td>OUT010</td>\n",
              "      <td>1998</td>\n",
              "      <td>NaN</td>\n",
              "      <td>Tier 3</td>\n",
              "      <td>Grocery Store</td>\n",
              "      <td>163.7868</td>\n",
              "    </tr>\n",
              "    <tr>\n",
              "      <th>31</th>\n",
              "      <td>NCS17</td>\n",
              "      <td>18.600</td>\n",
              "      <td>Low Fat</td>\n",
              "      <td>0.080829</td>\n",
              "      <td>Health and Hygiene</td>\n",
              "      <td>96.4436</td>\n",
              "      <td>OUT018</td>\n",
              "      <td>2009</td>\n",
              "      <td>Medium</td>\n",
              "      <td>Tier 3</td>\n",
              "      <td>Supermarket Type2</td>\n",
              "      <td>2741.7644</td>\n",
              "    </tr>\n",
              "    <tr>\n",
              "      <th>32</th>\n",
              "      <td>FDP33</td>\n",
              "      <td>18.700</td>\n",
              "      <td>Low Fat</td>\n",
              "      <td>0.000000</td>\n",
              "      <td>Snack Foods</td>\n",
              "      <td>256.6672</td>\n",
              "      <td>OUT018</td>\n",
              "      <td>2009</td>\n",
              "      <td>Medium</td>\n",
              "      <td>Tier 3</td>\n",
              "      <td>Supermarket Type2</td>\n",
              "      <td>3068.0064</td>\n",
              "    </tr>\n",
              "    <tr>\n",
              "      <th>33</th>\n",
              "      <td>FDO23</td>\n",
              "      <td>17.850</td>\n",
              "      <td>Low Fat</td>\n",
              "      <td>0.000000</td>\n",
              "      <td>Breads</td>\n",
              "      <td>93.1436</td>\n",
              "      <td>OUT045</td>\n",
              "      <td>2002</td>\n",
              "      <td>NaN</td>\n",
              "      <td>Tier 2</td>\n",
              "      <td>Supermarket Type1</td>\n",
              "      <td>2174.5028</td>\n",
              "    </tr>\n",
              "    <tr>\n",
              "      <th>34</th>\n",
              "      <td>DRH01</td>\n",
              "      <td>17.500</td>\n",
              "      <td>Low Fat</td>\n",
              "      <td>0.097904</td>\n",
              "      <td>Soft Drinks</td>\n",
              "      <td>174.8738</td>\n",
              "      <td>OUT046</td>\n",
              "      <td>1997</td>\n",
              "      <td>Small</td>\n",
              "      <td>Tier 1</td>\n",
              "      <td>Supermarket Type1</td>\n",
              "      <td>2085.2856</td>\n",
              "    </tr>\n",
              "    <tr>\n",
              "      <th>35</th>\n",
              "      <td>NCX29</td>\n",
              "      <td>10.000</td>\n",
              "      <td>Low Fat</td>\n",
              "      <td>0.089291</td>\n",
              "      <td>Health and Hygiene</td>\n",
              "      <td>146.7102</td>\n",
              "      <td>OUT049</td>\n",
              "      <td>1999</td>\n",
              "      <td>Medium</td>\n",
              "      <td>Tier 1</td>\n",
              "      <td>Supermarket Type1</td>\n",
              "      <td>3791.0652</td>\n",
              "    </tr>\n",
              "    <tr>\n",
              "      <th>36</th>\n",
              "      <td>FDV20</td>\n",
              "      <td>NaN</td>\n",
              "      <td>Regular</td>\n",
              "      <td>0.059512</td>\n",
              "      <td>Fruits and Vegetables</td>\n",
              "      <td>128.0678</td>\n",
              "      <td>OUT027</td>\n",
              "      <td>1985</td>\n",
              "      <td>Medium</td>\n",
              "      <td>Tier 3</td>\n",
              "      <td>Supermarket Type3</td>\n",
              "      <td>2797.6916</td>\n",
              "    </tr>\n",
              "    <tr>\n",
              "      <th>37</th>\n",
              "      <td>DRZ11</td>\n",
              "      <td>8.850</td>\n",
              "      <td>Regular</td>\n",
              "      <td>0.113124</td>\n",
              "      <td>Soft Drinks</td>\n",
              "      <td>122.5388</td>\n",
              "      <td>OUT018</td>\n",
              "      <td>2009</td>\n",
              "      <td>Medium</td>\n",
              "      <td>Tier 3</td>\n",
              "      <td>Supermarket Type2</td>\n",
              "      <td>1609.9044</td>\n",
              "    </tr>\n",
              "    <tr>\n",
              "      <th>38</th>\n",
              "      <td>FDX10</td>\n",
              "      <td>NaN</td>\n",
              "      <td>Regular</td>\n",
              "      <td>0.123111</td>\n",
              "      <td>Snack Foods</td>\n",
              "      <td>36.9874</td>\n",
              "      <td>OUT027</td>\n",
              "      <td>1985</td>\n",
              "      <td>Medium</td>\n",
              "      <td>Tier 3</td>\n",
              "      <td>Supermarket Type3</td>\n",
              "      <td>388.1614</td>\n",
              "    </tr>\n",
              "    <tr>\n",
              "      <th>39</th>\n",
              "      <td>FDB34</td>\n",
              "      <td>NaN</td>\n",
              "      <td>Low Fat</td>\n",
              "      <td>0.026481</td>\n",
              "      <td>Snack Foods</td>\n",
              "      <td>87.6198</td>\n",
              "      <td>OUT027</td>\n",
              "      <td>1985</td>\n",
              "      <td>Medium</td>\n",
              "      <td>Tier 3</td>\n",
              "      <td>Supermarket Type3</td>\n",
              "      <td>2180.4950</td>\n",
              "    </tr>\n",
              "    <tr>\n",
              "      <th>40</th>\n",
              "      <td>FDU02</td>\n",
              "      <td>13.350</td>\n",
              "      <td>Low Fat</td>\n",
              "      <td>0.102512</td>\n",
              "      <td>Dairy</td>\n",
              "      <td>230.6352</td>\n",
              "      <td>OUT046</td>\n",
              "      <td>1997</td>\n",
              "      <td>Small</td>\n",
              "      <td>Tier 1</td>\n",
              "      <td>Supermarket Type1</td>\n",
              "      <td>3435.5280</td>\n",
              "    </tr>\n",
              "    <tr>\n",
              "      <th>41</th>\n",
              "      <td>FDK43</td>\n",
              "      <td>9.800</td>\n",
              "      <td>Low Fat</td>\n",
              "      <td>0.026818</td>\n",
              "      <td>Meat</td>\n",
              "      <td>126.0020</td>\n",
              "      <td>OUT013</td>\n",
              "      <td>1987</td>\n",
              "      <td>High</td>\n",
              "      <td>Tier 3</td>\n",
              "      <td>Supermarket Type1</td>\n",
              "      <td>2150.5340</td>\n",
              "    </tr>\n",
              "    <tr>\n",
              "      <th>42</th>\n",
              "      <td>FDA46</td>\n",
              "      <td>13.600</td>\n",
              "      <td>Low Fat</td>\n",
              "      <td>0.117818</td>\n",
              "      <td>Snack Foods</td>\n",
              "      <td>192.9136</td>\n",
              "      <td>OUT049</td>\n",
              "      <td>1999</td>\n",
              "      <td>Medium</td>\n",
              "      <td>Tier 1</td>\n",
              "      <td>Supermarket Type1</td>\n",
              "      <td>2527.3768</td>\n",
              "    </tr>\n",
              "    <tr>\n",
              "      <th>43</th>\n",
              "      <td>FDC02</td>\n",
              "      <td>21.350</td>\n",
              "      <td>Low Fat</td>\n",
              "      <td>0.069103</td>\n",
              "      <td>Canned</td>\n",
              "      <td>259.9278</td>\n",
              "      <td>OUT018</td>\n",
              "      <td>2009</td>\n",
              "      <td>Medium</td>\n",
              "      <td>Tier 3</td>\n",
              "      <td>Supermarket Type2</td>\n",
              "      <td>6768.5228</td>\n",
              "    </tr>\n",
              "    <tr>\n",
              "      <th>44</th>\n",
              "      <td>FDL50</td>\n",
              "      <td>12.150</td>\n",
              "      <td>Regular</td>\n",
              "      <td>0.042278</td>\n",
              "      <td>Canned</td>\n",
              "      <td>126.5046</td>\n",
              "      <td>OUT013</td>\n",
              "      <td>1987</td>\n",
              "      <td>High</td>\n",
              "      <td>Tier 3</td>\n",
              "      <td>Supermarket Type1</td>\n",
              "      <td>373.5138</td>\n",
              "    </tr>\n",
              "    <tr>\n",
              "      <th>45</th>\n",
              "      <td>FDM39</td>\n",
              "      <td>6.420</td>\n",
              "      <td>LF</td>\n",
              "      <td>0.089499</td>\n",
              "      <td>Dairy</td>\n",
              "      <td>178.1002</td>\n",
              "      <td>OUT010</td>\n",
              "      <td>1998</td>\n",
              "      <td>NaN</td>\n",
              "      <td>Tier 3</td>\n",
              "      <td>Grocery Store</td>\n",
              "      <td>358.2004</td>\n",
              "    </tr>\n",
              "    <tr>\n",
              "      <th>46</th>\n",
              "      <td>NCP05</td>\n",
              "      <td>19.600</td>\n",
              "      <td>Low Fat</td>\n",
              "      <td>0.000000</td>\n",
              "      <td>Health and Hygiene</td>\n",
              "      <td>153.3024</td>\n",
              "      <td>OUT045</td>\n",
              "      <td>2002</td>\n",
              "      <td>NaN</td>\n",
              "      <td>Tier 2</td>\n",
              "      <td>Supermarket Type1</td>\n",
              "      <td>2428.8384</td>\n",
              "    </tr>\n",
              "    <tr>\n",
              "      <th>47</th>\n",
              "      <td>FDV49</td>\n",
              "      <td>10.000</td>\n",
              "      <td>Low Fat</td>\n",
              "      <td>0.025880</td>\n",
              "      <td>Canned</td>\n",
              "      <td>265.2226</td>\n",
              "      <td>OUT045</td>\n",
              "      <td>2002</td>\n",
              "      <td>NaN</td>\n",
              "      <td>Tier 2</td>\n",
              "      <td>Supermarket Type1</td>\n",
              "      <td>5815.0972</td>\n",
              "    </tr>\n",
              "    <tr>\n",
              "      <th>48</th>\n",
              "      <td>FDL12</td>\n",
              "      <td>15.850</td>\n",
              "      <td>Regular</td>\n",
              "      <td>0.121633</td>\n",
              "      <td>Baking Goods</td>\n",
              "      <td>60.6220</td>\n",
              "      <td>OUT046</td>\n",
              "      <td>1997</td>\n",
              "      <td>Small</td>\n",
              "      <td>Tier 1</td>\n",
              "      <td>Supermarket Type1</td>\n",
              "      <td>2576.6460</td>\n",
              "    </tr>\n",
              "    <tr>\n",
              "      <th>49</th>\n",
              "      <td>FDS02</td>\n",
              "      <td>NaN</td>\n",
              "      <td>Regular</td>\n",
              "      <td>0.255395</td>\n",
              "      <td>Dairy</td>\n",
              "      <td>196.8794</td>\n",
              "      <td>OUT019</td>\n",
              "      <td>1985</td>\n",
              "      <td>Small</td>\n",
              "      <td>Tier 1</td>\n",
              "      <td>Grocery Store</td>\n",
              "      <td>780.3176</td>\n",
              "    </tr>\n",
              "  </tbody>\n",
              "</table>\n",
              "</div>"
            ],
            "text/plain": [
              "   Item_Identifier  Item_Weight  ...        Outlet_Type  Item_Outlet_Sales\n",
              "0            FDA15        9.300  ...  Supermarket Type1          3735.1380\n",
              "1            DRC01        5.920  ...  Supermarket Type2           443.4228\n",
              "2            FDN15       17.500  ...  Supermarket Type1          2097.2700\n",
              "3            FDX07       19.200  ...      Grocery Store           732.3800\n",
              "4            NCD19        8.930  ...  Supermarket Type1           994.7052\n",
              "5            FDP36       10.395  ...  Supermarket Type2           556.6088\n",
              "6            FDO10       13.650  ...  Supermarket Type1           343.5528\n",
              "7            FDP10          NaN  ...  Supermarket Type3          4022.7636\n",
              "8            FDH17       16.200  ...  Supermarket Type1          1076.5986\n",
              "9            FDU28       19.200  ...  Supermarket Type1          4710.5350\n",
              "10           FDY07       11.800  ...  Supermarket Type1          1516.0266\n",
              "11           FDA03       18.500  ...  Supermarket Type1          2187.1530\n",
              "12           FDX32       15.100  ...  Supermarket Type1          1589.2646\n",
              "13           FDS46       17.600  ...  Supermarket Type1          2145.2076\n",
              "14           FDF32       16.350  ...  Supermarket Type1          1977.4260\n",
              "15           FDP49        9.000  ...  Supermarket Type1          1547.3192\n",
              "16           NCB42       11.800  ...  Supermarket Type2          1621.8888\n",
              "17           FDP49        9.000  ...  Supermarket Type1           718.3982\n",
              "18           DRI11          NaN  ...  Supermarket Type3          2303.6680\n",
              "19           FDU02       13.350  ...  Supermarket Type1          2748.4224\n",
              "20           FDN22       18.850  ...  Supermarket Type1          3775.0860\n",
              "21           FDW12          NaN  ...  Supermarket Type3          4064.0432\n",
              "22           NCB30       14.600  ...  Supermarket Type1          1587.2672\n",
              "23           FDC37          NaN  ...      Grocery Store           214.3876\n",
              "24           FDR28       13.850  ...  Supermarket Type1          4078.0250\n",
              "25           NCD06       13.000  ...  Supermarket Type1           838.9080\n",
              "26           FDV10        7.645  ...  Supermarket Type1          1065.2800\n",
              "27           DRJ59       11.650  ...  Supermarket Type1           308.9312\n",
              "28           FDE51        5.925  ...      Grocery Store           178.4344\n",
              "29           FDC14          NaN  ...      Grocery Store           125.8362\n",
              "30           FDV38       19.250  ...      Grocery Store           163.7868\n",
              "31           NCS17       18.600  ...  Supermarket Type2          2741.7644\n",
              "32           FDP33       18.700  ...  Supermarket Type2          3068.0064\n",
              "33           FDO23       17.850  ...  Supermarket Type1          2174.5028\n",
              "34           DRH01       17.500  ...  Supermarket Type1          2085.2856\n",
              "35           NCX29       10.000  ...  Supermarket Type1          3791.0652\n",
              "36           FDV20          NaN  ...  Supermarket Type3          2797.6916\n",
              "37           DRZ11        8.850  ...  Supermarket Type2          1609.9044\n",
              "38           FDX10          NaN  ...  Supermarket Type3           388.1614\n",
              "39           FDB34          NaN  ...  Supermarket Type3          2180.4950\n",
              "40           FDU02       13.350  ...  Supermarket Type1          3435.5280\n",
              "41           FDK43        9.800  ...  Supermarket Type1          2150.5340\n",
              "42           FDA46       13.600  ...  Supermarket Type1          2527.3768\n",
              "43           FDC02       21.350  ...  Supermarket Type2          6768.5228\n",
              "44           FDL50       12.150  ...  Supermarket Type1           373.5138\n",
              "45           FDM39        6.420  ...      Grocery Store           358.2004\n",
              "46           NCP05       19.600  ...  Supermarket Type1          2428.8384\n",
              "47           FDV49       10.000  ...  Supermarket Type1          5815.0972\n",
              "48           FDL12       15.850  ...  Supermarket Type1          2576.6460\n",
              "49           FDS02          NaN  ...      Grocery Store           780.3176\n",
              "\n",
              "[50 rows x 12 columns]"
            ]
          },
          "metadata": {
            "tags": []
          },
          "execution_count": 5
        }
      ]
    },
    {
      "cell_type": "code",
      "metadata": {
        "id": "RNzuGZzvCtx-",
        "colab_type": "code",
        "colab": {
          "base_uri": "https://localhost:8080/",
          "height": 213
        },
        "outputId": "a31e57ab-ffdb-45a7-a803-c831333556b1"
      },
      "source": [
        "test_df.head(3)"
      ],
      "execution_count": 6,
      "outputs": [
        {
          "output_type": "execute_result",
          "data": {
            "text/html": [
              "<div>\n",
              "<style scoped>\n",
              "    .dataframe tbody tr th:only-of-type {\n",
              "        vertical-align: middle;\n",
              "    }\n",
              "\n",
              "    .dataframe tbody tr th {\n",
              "        vertical-align: top;\n",
              "    }\n",
              "\n",
              "    .dataframe thead th {\n",
              "        text-align: right;\n",
              "    }\n",
              "</style>\n",
              "<table border=\"1\" class=\"dataframe\">\n",
              "  <thead>\n",
              "    <tr style=\"text-align: right;\">\n",
              "      <th></th>\n",
              "      <th>Item_Identifier</th>\n",
              "      <th>Item_Weight</th>\n",
              "      <th>Item_Fat_Content</th>\n",
              "      <th>Item_Visibility</th>\n",
              "      <th>Item_Type</th>\n",
              "      <th>Item_MRP</th>\n",
              "      <th>Outlet_Identifier</th>\n",
              "      <th>Outlet_Establishment_Year</th>\n",
              "      <th>Outlet_Size</th>\n",
              "      <th>Outlet_Location_Type</th>\n",
              "      <th>Outlet_Type</th>\n",
              "    </tr>\n",
              "  </thead>\n",
              "  <tbody>\n",
              "    <tr>\n",
              "      <th>0</th>\n",
              "      <td>FDW58</td>\n",
              "      <td>20.75</td>\n",
              "      <td>Low Fat</td>\n",
              "      <td>0.007565</td>\n",
              "      <td>Snack Foods</td>\n",
              "      <td>107.8622</td>\n",
              "      <td>OUT049</td>\n",
              "      <td>1999</td>\n",
              "      <td>Medium</td>\n",
              "      <td>Tier 1</td>\n",
              "      <td>Supermarket Type1</td>\n",
              "    </tr>\n",
              "    <tr>\n",
              "      <th>1</th>\n",
              "      <td>FDW14</td>\n",
              "      <td>8.30</td>\n",
              "      <td>reg</td>\n",
              "      <td>0.038428</td>\n",
              "      <td>Dairy</td>\n",
              "      <td>87.3198</td>\n",
              "      <td>OUT017</td>\n",
              "      <td>2007</td>\n",
              "      <td>NaN</td>\n",
              "      <td>Tier 2</td>\n",
              "      <td>Supermarket Type1</td>\n",
              "    </tr>\n",
              "    <tr>\n",
              "      <th>2</th>\n",
              "      <td>NCN55</td>\n",
              "      <td>14.60</td>\n",
              "      <td>Low Fat</td>\n",
              "      <td>0.099575</td>\n",
              "      <td>Others</td>\n",
              "      <td>241.7538</td>\n",
              "      <td>OUT010</td>\n",
              "      <td>1998</td>\n",
              "      <td>NaN</td>\n",
              "      <td>Tier 3</td>\n",
              "      <td>Grocery Store</td>\n",
              "    </tr>\n",
              "  </tbody>\n",
              "</table>\n",
              "</div>"
            ],
            "text/plain": [
              "  Item_Identifier  Item_Weight  ... Outlet_Location_Type        Outlet_Type\n",
              "0           FDW58        20.75  ...               Tier 1  Supermarket Type1\n",
              "1           FDW14         8.30  ...               Tier 2  Supermarket Type1\n",
              "2           NCN55        14.60  ...               Tier 3      Grocery Store\n",
              "\n",
              "[3 rows x 11 columns]"
            ]
          },
          "metadata": {
            "tags": []
          },
          "execution_count": 6
        }
      ]
    },
    {
      "cell_type": "code",
      "metadata": {
        "id": "Bqp11qVNCtyH",
        "colab_type": "code",
        "colab": {}
      },
      "source": [
        "sales_df = train_df\n"
      ],
      "execution_count": 0,
      "outputs": []
    },
    {
      "cell_type": "markdown",
      "metadata": {
        "id": "0cYPX6AhCtyO",
        "colab_type": "text"
      },
      "source": [
        "# Explore the Data"
      ]
    },
    {
      "cell_type": "code",
      "metadata": {
        "id": "pUmkJDhCCtyQ",
        "colab_type": "code",
        "colab": {
          "base_uri": "https://localhost:8080/",
          "height": 122
        },
        "outputId": "f790e290-7891-43e1-f2e6-34c61e60a49e"
      },
      "source": [
        "\n",
        "print(set(sales_df.Item_Fat_Content))\n",
        "print(set(sales_df.Item_Type))\n",
        "print(set(sales_df.Outlet_Size))\n",
        "print(set(sales_df.Outlet_Type))\n",
        "print(set(sales_df.Outlet_Location_Type))"
      ],
      "execution_count": 8,
      "outputs": [
        {
          "output_type": "stream",
          "text": [
            "{'low fat', 'reg', 'Regular', 'Low Fat', 'LF'}\n",
            "{'Fruits and Vegetables', 'Others', 'Starchy Foods', 'Household', 'Dairy', 'Frozen Foods', 'Soft Drinks', 'Breakfast', 'Meat', 'Breads', 'Snack Foods', 'Baking Goods', 'Hard Drinks', 'Health and Hygiene', 'Seafood', 'Canned'}\n",
            "{nan, 'High', 'Medium', 'Small'}\n",
            "{'Supermarket Type1', 'Supermarket Type2', 'Grocery Store', 'Supermarket Type3'}\n",
            "{'Tier 2', 'Tier 3', 'Tier 1'}\n"
          ],
          "name": "stdout"
        }
      ]
    },
    {
      "cell_type": "code",
      "metadata": {
        "id": "E56LMpYDCtyY",
        "colab_type": "code",
        "colab": {
          "base_uri": "https://localhost:8080/",
          "height": 238
        },
        "outputId": "bd4712d2-cba3-4cfe-873b-3018466f6c09"
      },
      "source": [
        "#check missing values\n",
        "sales_df.isnull().sum()"
      ],
      "execution_count": 9,
      "outputs": [
        {
          "output_type": "execute_result",
          "data": {
            "text/plain": [
              "Item_Identifier                 0\n",
              "Item_Weight                  1463\n",
              "Item_Fat_Content                0\n",
              "Item_Visibility                 0\n",
              "Item_Type                       0\n",
              "Item_MRP                        0\n",
              "Outlet_Identifier               0\n",
              "Outlet_Establishment_Year       0\n",
              "Outlet_Size                  2410\n",
              "Outlet_Location_Type            0\n",
              "Outlet_Type                     0\n",
              "Item_Outlet_Sales               0\n",
              "dtype: int64"
            ]
          },
          "metadata": {
            "tags": []
          },
          "execution_count": 9
        }
      ]
    },
    {
      "cell_type": "code",
      "metadata": {
        "id": "-QG02WvyCtyf",
        "colab_type": "code",
        "colab": {
          "base_uri": "https://localhost:8080/",
          "height": 496
        },
        "outputId": "6f9d40dd-5d61-491f-ad50-3e840dbdac67"
      },
      "source": [
        "fig = plt.figure(figsize=(10,7))\n",
        "sns.scatterplot(x=sales_df['Outlet_Establishment_Year'],y=sales_df['Item_Outlet_Sales'],data=sales_df)\n",
        "plt.xticks(rotation='90')"
      ],
      "execution_count": 10,
      "outputs": [
        {
          "output_type": "execute_result",
          "data": {
            "text/plain": [
              "(array([1980., 1985., 1990., 1995., 2000., 2005., 2010., 2015.]),\n",
              " <a list of 8 Text xticklabel objects>)"
            ]
          },
          "metadata": {
            "tags": []
          },
          "execution_count": 10
        },
        {
          "output_type": "display_data",
          "data": {
            "image/png": "[encoded data removed]",
            "text/plain": [
              "<Figure size 720x504 with 1 Axes>"
            ]
          },
          "metadata": {
            "tags": []
          }
        }
      ]
    },
    {
      "cell_type": "code",
      "metadata": {
        "id": "FcU-ILguB9hS",
        "colab_type": "code",
        "outputId": "4ebf87af-17c3-40a3-f311-338fd111ba85",
        "colab": {
          "base_uri": "https://localhost:8080/",
          "height": 236
        }
      },
      "source": [
        "sns.pairplot(sales_df, diag_kind='kde', x_vars=['Outlet_Establishment_Year', 'Outlet_Size'], y_vars=['Item_Outlet_Sales'])\n",
        "plt.xticks(rotation='90')"
      ],
      "execution_count": 11,
      "outputs": [
        {
          "output_type": "execute_result",
          "data": {
            "text/plain": [
              "([0, 1, 2], <a list of 3 Text xticklabel objects>)"
            ]
          },
          "metadata": {
            "tags": []
          },
          "execution_count": 11
        },
        {
          "output_type": "display_data",
          "data": {
            "image/png": "[encoded data removed]",
            "text/plain": [
              "<Figure size 360x180 with 2 Axes>"
            ]
          },
          "metadata": {
            "tags": []
          }
        }
      ]
    },
    {
      "cell_type": "markdown",
      "metadata": {
        "id": "0TpZ6b1-Ctyl",
        "colab_type": "text"
      },
      "source": [
        "# cleaning and imputing data"
      ]
    },
    {
      "cell_type": "code",
      "metadata": {
        "id": "RXZ-f80hCtyn",
        "colab_type": "code",
        "outputId": "15410ca7-9602-4e7e-9007-cc21a8851f2d",
        "colab": {
          "base_uri": "https://localhost:8080/",
          "height": 34
        }
      },
      "source": [
        "(sales_df['Item_Visibility']==0).sum()"
      ],
      "execution_count": 12,
      "outputs": [
        {
          "output_type": "execute_result",
          "data": {
            "text/plain": [
              "526"
            ]
          },
          "metadata": {
            "tags": []
          },
          "execution_count": 12
        }
      ]
    },
    {
      "cell_type": "code",
      "metadata": {
        "id": "S9pEPa3wCtyv",
        "colab_type": "code",
        "colab": {}
      },
      "source": [
        "#change the (zero value of Item_Visibility) to the mean of (Non zero values of Item_Visibility)\n",
        "#according to Item_Identifier\n",
        "ID = set(sales_df['Item_Identifier'])\n",
        "for i in ID:\n",
        "    sales_df.loc[(sales_df[\"Item_Identifier\"]==str(i)) & (sales_df[\"Item_Visibility\"]==0),\"Item_Visibility\"] = sales_df.loc[(sales_df[\"Item_Identifier\"]==str(i)) & (sales_df[\"Item_Visibility\"]!=0),\"Item_Visibility\"].mean()\n",
        "#apply the same on the test set   \n",
        "    test_df.loc[(test_df[\"Item_Identifier\"]==str(i)) & (test_df[\"Item_Visibility\"]==0),\"Item_Visibility\"] = test_df.loc[(test_df[\"Item_Identifier\"]==str(i)) & (test_df[\"Item_Visibility\"]!=0),\"Item_Visibility\"].mean()\n",
        "\n",
        "#Now we check the Zero values in Item_Visibility\n",
        "(sales_df['Item_Visibility']==0).sum()"
      ],
      "execution_count": 0,
      "outputs": []
    },
    {
      "cell_type": "code",
      "metadata": {
        "id": "sc5cZTtBCty1",
        "colab_type": "code",
        "colab": {}
      },
      "source": [
        "sales_df['Item_Weight'].isnull().sum()"
      ],
      "execution_count": 0,
      "outputs": []
    },
    {
      "cell_type": "code",
      "metadata": {
        "id": "kmTF2LkHCty8",
        "colab_type": "code",
        "colab": {}
      },
      "source": [
        "for i in ID:\n",
        "    sales_df.loc[(sales_df[\"Item_Identifier\"]==str(i)) & (sales_df[\"Item_Weight\"].isnull()),\"Item_Weight\"] = sales_df.loc[(sales_df[\"Item_Identifier\"]==str(i))&(sales_df[\"Item_Weight\"].notnull()),\"Item_Weight\"].mean()\n",
        "    #apply the same on the test set\n",
        "    test_df.loc[(test_df[\"Item_Identifier\"]==str(i)) & (test_df[\"Item_Weight\"].isnull()),\"Item_Weight\"] = test_df.loc[(test_df[\"Item_Identifier\"]==str(i))&(test_df[\"Item_Weight\"].notnull()),\"Item_Weight\"].mean()\n",
        "sales_df['Item_Weight'].isnull().sum()"
      ],
      "execution_count": 0,
      "outputs": []
    },
    {
      "cell_type": "code",
      "metadata": {
        "id": "hekkj601CtzD",
        "colab_type": "code",
        "colab": {}
      },
      "source": [
        "sales_df['Item_Weight'].fillna(sales_df['Item_Weight'].mean(),inplace=True)\n",
        "#apply the same on the test set\n",
        "test_df['Item_Weight'].fillna(test_df['Item_Weight'].mean(),inplace=True)\n"
      ],
      "execution_count": 0,
      "outputs": []
    },
    {
      "cell_type": "code",
      "metadata": {
        "id": "cOYoAXUjCtzK",
        "colab_type": "code",
        "colab": {}
      },
      "source": [
        "\n",
        "sales_df['Item_Weight'].isnull().sum()"
      ],
      "execution_count": 0,
      "outputs": []
    },
    {
      "cell_type": "markdown",
      "metadata": {
        "id": "oskMe1tFCtzS",
        "colab_type": "text"
      },
      "source": [
        "we need to fix Outlet_Size column"
      ]
    },
    {
      "cell_type": "code",
      "metadata": {
        "id": "29G9Y0MOCtzW",
        "colab_type": "code",
        "colab": {}
      },
      "source": [
        "#NaN values in Outlet_Size column\n",
        "sales_df[\"Outlet_Size\"].isnull().sum()"
      ],
      "execution_count": 0,
      "outputs": []
    },
    {
      "cell_type": "code",
      "metadata": {
        "id": "WlqVMi7iCtzc",
        "colab_type": "code",
        "colab": {}
      },
      "source": [
        "sales_df.loc[sales_df['Outlet_Size'].isnull(),['Outlet_Identifier','Outlet_Size','Outlet_Location_Type','Outlet_Type']].head(10)"
      ],
      "execution_count": 0,
      "outputs": []
    },
    {
      "cell_type": "markdown",
      "metadata": {
        "id": "DCOmpTehCtzi",
        "colab_type": "text"
      },
      "source": [
        "Notice that missing Outlit_Size is assigned eather to 'Tier 2' or 'Tier 3'"
      ]
    },
    {
      "cell_type": "code",
      "metadata": {
        "scrolled": true,
        "id": "saSfmfIfCtzk",
        "colab_type": "code",
        "colab": {}
      },
      "source": [
        "sales_df.loc[((sales_df['Outlet_Location_Type']=='Tier 2') | (sales_df['Outlet_Location_Type']=='Tier 3'))&(sales_df['Outlet_Size'].notnull()),['Outlet_Identifier','Outlet_Size','Outlet_Location_Type','Outlet_Type']].head(15)"
      ],
      "execution_count": 0,
      "outputs": []
    },
    {
      "cell_type": "markdown",
      "metadata": {
        "id": "OQ1VxDzdCtzr",
        "colab_type": "text"
      },
      "source": [
        "'Tier 2' has 'Outlet_Size' that has always the value (small) and 'Outlet_Type' (Supermarket Type1)\n",
        "so we can impute the 'Outlet_Size' of OUT045 and OUT017 as small"
      ]
    },
    {
      "cell_type": "code",
      "metadata": {
        "id": "cbtDhfr2Ctzs",
        "colab_type": "code",
        "colab": {}
      },
      "source": [
        "sales_df.loc[(sales_df['Outlet_Identifier']=='OUT045')|(sales_df['Outlet_Identifier']=='OUT017'), 'Outlet_Size']='Small'\n",
        "\n",
        "test_df.loc[(test_df['Outlet_Identifier']=='OUT045')|(test_df['Outlet_Identifier']=='OUT017'), 'Outlet_Size']='Small'"
      ],
      "execution_count": 0,
      "outputs": []
    },
    {
      "cell_type": "markdown",
      "metadata": {
        "id": "ruJDQCiqCtz0",
        "colab_type": "text"
      },
      "source": [
        "for OUT010 we cant't impuute 'Outlet_Size' so we need to build a classifier"
      ]
    },
    {
      "cell_type": "markdown",
      "metadata": {
        "id": "rAgLkSlUCtz2",
        "colab_type": "text"
      },
      "source": [
        "# build a model to classify Outlet_Size"
      ]
    },
    {
      "cell_type": "code",
      "metadata": {
        "id": "q-fgQOZqCtz3",
        "colab_type": "code",
        "colab": {}
      },
      "source": [
        "from sklearn.ensemble import GradientBoostingClassifier\n",
        "from sklearn.preprocessing import LabelEncoder"
      ],
      "execution_count": 0,
      "outputs": []
    },
    {
      "cell_type": "code",
      "metadata": {
        "id": "sGVDgaMhCtz9",
        "colab_type": "code",
        "colab": {}
      },
      "source": [
        "cols = ['Outlet_Identifier','Outlet_Establishment_Year','Outlet_Location_Type','Outlet_Type'] #columns of interest\n",
        "x_train = sales_df[sales_df.Outlet_Size.notnull()]\n",
        "y_train = x_train.pop('Outlet_Size')\n",
        "x_target = sales_df[sales_df.Outlet_Size.isnull()]\n",
        "x_target.drop('Outlet_Size', axis=1, inplace=True)\n",
        "x_train = x_train[cols]\n",
        "x_target = x_target[cols]\n",
        "\n",
        "le=LabelEncoder()\n",
        "for i in cols: \n",
        "    le.fit(sales_df[i])\n",
        "    x_train[i]=le.transform(x_train[i])\n",
        "    x_target[i]=le.transform(x_target[i])\n",
        "\n",
        "    \n",
        "GBC = GradientBoostingClassifier(learning_rate = 0.01, max_depth=3, random_state=5)\n",
        "GBC.fit(x_train,y_train)\n",
        "target = GBC.predict(x_target)"
      ],
      "execution_count": 0,
      "outputs": []
    },
    {
      "cell_type": "code",
      "metadata": {
        "id": "_D5rhg9nCt0D",
        "colab_type": "code",
        "colab": {}
      },
      "source": [
        "set(target)"
      ],
      "execution_count": 0,
      "outputs": []
    },
    {
      "cell_type": "code",
      "metadata": {
        "id": "VPnb5I_SCt0J",
        "colab_type": "code",
        "colab": {}
      },
      "source": [
        "sales_df.loc[(sales_df[\"Outlet_Size\"].isnull()),\"Outlet_Size\"] = 'High'\n",
        "\n",
        "test_df.loc[(test_df[\"Outlet_Size\"].isnull()),\"Outlet_Size\"] = 'High'"
      ],
      "execution_count": 0,
      "outputs": []
    },
    {
      "cell_type": "code",
      "metadata": {
        "id": "Dlq0_pakCt0N",
        "colab_type": "code",
        "colab": {}
      },
      "source": [
        "sales_df[\"Outlet_Size\"].value_counts()\n"
      ],
      "execution_count": 0,
      "outputs": []
    },
    {
      "cell_type": "code",
      "metadata": {
        "id": "0lmr08sdCt0S",
        "colab_type": "code",
        "colab": {}
      },
      "source": [
        "sales_df[sales_df.Outlet_Size.isnull()]"
      ],
      "execution_count": 0,
      "outputs": []
    },
    {
      "cell_type": "code",
      "metadata": {
        "id": "LtytJby-Ct0Z",
        "colab_type": "code",
        "colab": {}
      },
      "source": [
        "#Fix Item_Fat_Content column\n",
        "sales_df['Item_Fat_Content'] = sales_df['Item_Fat_Content'].replace(['LF','low fat'],'Low Fat')\n",
        "sales_df['Item_Fat_Content'] = sales_df['Item_Fat_Content'].replace('reg','Regular')\n",
        "\n",
        "test_df['Item_Fat_Content'] = test_df['Item_Fat_Content'].replace(['LF','low fat'],'Low Fat')\n",
        "test_df['Item_Fat_Content'] = test_df['Item_Fat_Content'].replace('reg','Regular')"
      ],
      "execution_count": 0,
      "outputs": []
    },
    {
      "cell_type": "markdown",
      "metadata": {
        "id": "keZZTXTACt0k",
        "colab_type": "text"
      },
      "source": [
        "# Plot corrlation"
      ]
    },
    {
      "cell_type": "code",
      "metadata": {
        "id": "p5R5VHsoCt0l",
        "colab_type": "code",
        "colab": {}
      },
      "source": [
        "plt.matshow(sales_df.corr())\n",
        "plt.show()"
      ],
      "execution_count": 0,
      "outputs": []
    },
    {
      "cell_type": "code",
      "metadata": {
        "id": "Y6_NCd8VCt0x",
        "colab_type": "code",
        "colab": {}
      },
      "source": [
        "sns.pairplot(sales_df,diag_kind=\"kde\", x_vars=['Item_Outlet_Sales','Item_Visibility'],y_vars=['Outlet_Establishment_Year','Item_Visibility'],\n",
        "             plot_kws=dict(s=50, edgecolor=\"y\", linewidth=0.5),diag_kws=dict(shade=True), markers='o')\n",
        "plt.show()"
      ],
      "execution_count": 0,
      "outputs": []
    },
    {
      "cell_type": "code",
      "metadata": {
        "id": "RZAwwuHE8rj0",
        "colab_type": "code",
        "colab": {
          "base_uri": "https://localhost:8080/",
          "height": 231
        },
        "outputId": "f2e8feff-6092-4c05-f0b0-b9955ca9b776"
      },
      "source": [
        "from mpl_toolkits import mplot3d\n",
        "\n",
        "fig = plt.figure()\n",
        "ax = plt.axes(projection=\"3d\")\n",
        "x = sales_df.Item_Visibility\n",
        "y = sales_df.Item_Type\n",
        "z = sales_df.Item_Outlet_Sales\n",
        "X, Y, Z = np.meshgrid(x, y, z)"
      ],
      "execution_count": 1,
      "outputs": [
        {
          "output_type": "error",
          "ename": "NameError",
          "evalue": "ignored",
          "traceback": [
            "\u001b[0;31m---------------------------------------------------------------------------\u001b[0m",
            "\u001b[0;31mNameError\u001b[0m                                 Traceback (most recent call last)",
            "\u001b[0;32m<ipython-input-1-b5d585304412>\u001b[0m in \u001b[0;36m<module>\u001b[0;34m()\u001b[0m\n\u001b[1;32m      1\u001b[0m \u001b[0;32mfrom\u001b[0m \u001b[0mmpl_toolkits\u001b[0m \u001b[0;32mimport\u001b[0m \u001b[0mmplot3d\u001b[0m\u001b[0;34m\u001b[0m\u001b[0;34m\u001b[0m\u001b[0m\n\u001b[1;32m      2\u001b[0m \u001b[0;34m\u001b[0m\u001b[0m\n\u001b[0;32m----> 3\u001b[0;31m \u001b[0mfig\u001b[0m \u001b[0;34m=\u001b[0m \u001b[0mplt\u001b[0m\u001b[0;34m.\u001b[0m\u001b[0mfigure\u001b[0m\u001b[0;34m(\u001b[0m\u001b[0;34m)\u001b[0m\u001b[0;34m\u001b[0m\u001b[0;34m\u001b[0m\u001b[0m\n\u001b[0m\u001b[1;32m      4\u001b[0m \u001b[0max\u001b[0m \u001b[0;34m=\u001b[0m \u001b[0mplt\u001b[0m\u001b[0;34m.\u001b[0m\u001b[0maxes\u001b[0m\u001b[0;34m(\u001b[0m\u001b[0mprojection\u001b[0m\u001b[0;34m=\u001b[0m\u001b[0;34m\"3d\"\u001b[0m\u001b[0;34m)\u001b[0m\u001b[0;34m\u001b[0m\u001b[0;34m\u001b[0m\u001b[0m\n\u001b[1;32m      5\u001b[0m \u001b[0mx\u001b[0m \u001b[0;34m=\u001b[0m \u001b[0msales_df\u001b[0m\u001b[0;34m.\u001b[0m\u001b[0mItem_Visibility\u001b[0m\u001b[0;34m\u001b[0m\u001b[0;34m\u001b[0m\u001b[0m\n",
            "\u001b[0;31mNameError\u001b[0m: name 'plt' is not defined"
          ]
        }
      ]
    },
    {
      "cell_type": "code",
      "metadata": {
        "id": "WFHPJA7m9ew6",
        "colab_type": "code",
        "colab": {}
      },
      "source": [
        "ig = plt.figure()\n",
        "ax = plt.axes(projection=\"3d\")\n",
        "ax.plot_wireframe(X, Y, Z, color='green')\n",
        "ax.set_xlabel('x')\n",
        "ax.set_ylabel('y')\n",
        "ax.set_zlabel('z')\n",
        "\n",
        "plt.show()"
      ],
      "execution_count": 0,
      "outputs": []
    },
    {
      "cell_type": "code",
      "metadata": {
        "id": "vigdJj-ANsit",
        "colab_type": "code",
        "colab": {
          "base_uri": "https://localhost:8080/",
          "height": 309
        },
        "outputId": "fd85bab6-5696-401a-dafa-1e7f4f2b317a"
      },
      "source": [
        "sales_df.head()"
      ],
      "execution_count": 422,
      "outputs": [
        {
          "output_type": "execute_result",
          "data": {
            "text/html": [
              "<div>\n",
              "<style scoped>\n",
              "    .dataframe tbody tr th:only-of-type {\n",
              "        vertical-align: middle;\n",
              "    }\n",
              "\n",
              "    .dataframe tbody tr th {\n",
              "        vertical-align: top;\n",
              "    }\n",
              "\n",
              "    .dataframe thead th {\n",
              "        text-align: right;\n",
              "    }\n",
              "</style>\n",
              "<table border=\"1\" class=\"dataframe\">\n",
              "  <thead>\n",
              "    <tr style=\"text-align: right;\">\n",
              "      <th></th>\n",
              "      <th>Item_Identifier</th>\n",
              "      <th>Item_Weight</th>\n",
              "      <th>Item_Fat_Content</th>\n",
              "      <th>Item_Visibility</th>\n",
              "      <th>Item_Type</th>\n",
              "      <th>Item_MRP</th>\n",
              "      <th>Outlet_Identifier</th>\n",
              "      <th>Outlet_Establishment_Year</th>\n",
              "      <th>Outlet_Size</th>\n",
              "      <th>Outlet_Location_Type</th>\n",
              "      <th>Outlet_Type</th>\n",
              "      <th>Item_Outlet_Sales</th>\n",
              "    </tr>\n",
              "  </thead>\n",
              "  <tbody>\n",
              "    <tr>\n",
              "      <th>0</th>\n",
              "      <td>FDA15</td>\n",
              "      <td>9.30</td>\n",
              "      <td>Low Fat</td>\n",
              "      <td>0.016047</td>\n",
              "      <td>Dairy</td>\n",
              "      <td>249.8092</td>\n",
              "      <td>OUT049</td>\n",
              "      <td>1999</td>\n",
              "      <td>Medium</td>\n",
              "      <td>Tier 1</td>\n",
              "      <td>Supermarket Type1</td>\n",
              "      <td>3735.1380</td>\n",
              "    </tr>\n",
              "    <tr>\n",
              "      <th>1</th>\n",
              "      <td>DRC01</td>\n",
              "      <td>5.92</td>\n",
              "      <td>Regular</td>\n",
              "      <td>0.019278</td>\n",
              "      <td>Soft Drinks</td>\n",
              "      <td>48.2692</td>\n",
              "      <td>OUT018</td>\n",
              "      <td>2009</td>\n",
              "      <td>Medium</td>\n",
              "      <td>Tier 3</td>\n",
              "      <td>Supermarket Type2</td>\n",
              "      <td>443.4228</td>\n",
              "    </tr>\n",
              "    <tr>\n",
              "      <th>2</th>\n",
              "      <td>FDN15</td>\n",
              "      <td>17.50</td>\n",
              "      <td>Low Fat</td>\n",
              "      <td>0.016760</td>\n",
              "      <td>Meat</td>\n",
              "      <td>141.6180</td>\n",
              "      <td>OUT049</td>\n",
              "      <td>1999</td>\n",
              "      <td>Medium</td>\n",
              "      <td>Tier 1</td>\n",
              "      <td>Supermarket Type1</td>\n",
              "      <td>2097.2700</td>\n",
              "    </tr>\n",
              "    <tr>\n",
              "      <th>3</th>\n",
              "      <td>FDX07</td>\n",
              "      <td>19.20</td>\n",
              "      <td>Regular</td>\n",
              "      <td>0.022911</td>\n",
              "      <td>Fruits and Vegetables</td>\n",
              "      <td>182.0950</td>\n",
              "      <td>OUT010</td>\n",
              "      <td>1998</td>\n",
              "      <td>High</td>\n",
              "      <td>Tier 3</td>\n",
              "      <td>Grocery Store</td>\n",
              "      <td>732.3800</td>\n",
              "    </tr>\n",
              "    <tr>\n",
              "      <th>4</th>\n",
              "      <td>NCD19</td>\n",
              "      <td>8.93</td>\n",
              "      <td>Low Fat</td>\n",
              "      <td>0.016164</td>\n",
              "      <td>Household</td>\n",
              "      <td>53.8614</td>\n",
              "      <td>OUT013</td>\n",
              "      <td>1987</td>\n",
              "      <td>High</td>\n",
              "      <td>Tier 3</td>\n",
              "      <td>Supermarket Type1</td>\n",
              "      <td>994.7052</td>\n",
              "    </tr>\n",
              "  </tbody>\n",
              "</table>\n",
              "</div>"
            ],
            "text/plain": [
              "  Item_Identifier  Item_Weight  ...        Outlet_Type  Item_Outlet_Sales\n",
              "0           FDA15         9.30  ...  Supermarket Type1          3735.1380\n",
              "1           DRC01         5.92  ...  Supermarket Type2           443.4228\n",
              "2           FDN15        17.50  ...  Supermarket Type1          2097.2700\n",
              "3           FDX07        19.20  ...      Grocery Store           732.3800\n",
              "4           NCD19         8.93  ...  Supermarket Type1           994.7052\n",
              "\n",
              "[5 rows x 12 columns]"
            ]
          },
          "metadata": {
            "tags": []
          },
          "execution_count": 422
        }
      ]
    },
    {
      "cell_type": "markdown",
      "metadata": {
        "id": "5Ok85JYLCt02",
        "colab_type": "text"
      },
      "source": [
        "## build predicting model"
      ]
    },
    {
      "cell_type": "markdown",
      "metadata": {
        "id": "cG2XVPPUHEaW",
        "colab_type": "text"
      },
      "source": [
        "### converting categorical features to numerical"
      ]
    },
    {
      "cell_type": "code",
      "metadata": {
        "id": "DqoxzR04QxB4",
        "colab_type": "code",
        "colab": {
          "base_uri": "https://localhost:8080/",
          "height": 309
        },
        "outputId": "1507e794-c095-4803-ec5b-7843813b3741"
      },
      "source": [
        "sales_df['Item_Fat_Content'] = sales_df['Item_Fat_Content'].replace('Low Fat', 1)\n",
        "sales_df['Item_Fat_Content'] = sales_df['Item_Fat_Content'].replace('Regular', 2)\n",
        "\n",
        "replacement = {'Small':1, 'Medium':2, 'High':3}\n",
        "sales_df['Outlet_Size'] = sales_df['Outlet_Size'].map(replacement)\n",
        "\n",
        "sales_df['Outlet_Location_Type'] = sales_df['Outlet_Location_Type'].replace('Tier 1', 1)\n",
        "sales_df['Outlet_Location_Type'] = sales_df['Outlet_Location_Type'].replace('Tier 2', 2)\n",
        "sales_df['Outlet_Location_Type'] = sales_df['Outlet_Location_Type'].replace('Tier 3', 3)\n",
        "sales_df.head()"
      ],
      "execution_count": 423,
      "outputs": [
        {
          "output_type": "execute_result",
          "data": {
            "text/html": [
              "<div>\n",
              "<style scoped>\n",
              "    .dataframe tbody tr th:only-of-type {\n",
              "        vertical-align: middle;\n",
              "    }\n",
              "\n",
              "    .dataframe tbody tr th {\n",
              "        vertical-align: top;\n",
              "    }\n",
              "\n",
              "    .dataframe thead th {\n",
              "        text-align: right;\n",
              "    }\n",
              "</style>\n",
              "<table border=\"1\" class=\"dataframe\">\n",
              "  <thead>\n",
              "    <tr style=\"text-align: right;\">\n",
              "      <th></th>\n",
              "      <th>Item_Identifier</th>\n",
              "      <th>Item_Weight</th>\n",
              "      <th>Item_Fat_Content</th>\n",
              "      <th>Item_Visibility</th>\n",
              "      <th>Item_Type</th>\n",
              "      <th>Item_MRP</th>\n",
              "      <th>Outlet_Identifier</th>\n",
              "      <th>Outlet_Establishment_Year</th>\n",
              "      <th>Outlet_Size</th>\n",
              "      <th>Outlet_Location_Type</th>\n",
              "      <th>Outlet_Type</th>\n",
              "      <th>Item_Outlet_Sales</th>\n",
              "    </tr>\n",
              "  </thead>\n",
              "  <tbody>\n",
              "    <tr>\n",
              "      <th>0</th>\n",
              "      <td>FDA15</td>\n",
              "      <td>9.30</td>\n",
              "      <td>1</td>\n",
              "      <td>0.016047</td>\n",
              "      <td>Dairy</td>\n",
              "      <td>249.8092</td>\n",
              "      <td>OUT049</td>\n",
              "      <td>1999</td>\n",
              "      <td>2</td>\n",
              "      <td>1</td>\n",
              "      <td>Supermarket Type1</td>\n",
              "      <td>3735.1380</td>\n",
              "    </tr>\n",
              "    <tr>\n",
              "      <th>1</th>\n",
              "      <td>DRC01</td>\n",
              "      <td>5.92</td>\n",
              "      <td>2</td>\n",
              "      <td>0.019278</td>\n",
              "      <td>Soft Drinks</td>\n",
              "      <td>48.2692</td>\n",
              "      <td>OUT018</td>\n",
              "      <td>2009</td>\n",
              "      <td>2</td>\n",
              "      <td>3</td>\n",
              "      <td>Supermarket Type2</td>\n",
              "      <td>443.4228</td>\n",
              "    </tr>\n",
              "    <tr>\n",
              "      <th>2</th>\n",
              "      <td>FDN15</td>\n",
              "      <td>17.50</td>\n",
              "      <td>1</td>\n",
              "      <td>0.016760</td>\n",
              "      <td>Meat</td>\n",
              "      <td>141.6180</td>\n",
              "      <td>OUT049</td>\n",
              "      <td>1999</td>\n",
              "      <td>2</td>\n",
              "      <td>1</td>\n",
              "      <td>Supermarket Type1</td>\n",
              "      <td>2097.2700</td>\n",
              "    </tr>\n",
              "    <tr>\n",
              "      <th>3</th>\n",
              "      <td>FDX07</td>\n",
              "      <td>19.20</td>\n",
              "      <td>2</td>\n",
              "      <td>0.022911</td>\n",
              "      <td>Fruits and Vegetables</td>\n",
              "      <td>182.0950</td>\n",
              "      <td>OUT010</td>\n",
              "      <td>1998</td>\n",
              "      <td>3</td>\n",
              "      <td>3</td>\n",
              "      <td>Grocery Store</td>\n",
              "      <td>732.3800</td>\n",
              "    </tr>\n",
              "    <tr>\n",
              "      <th>4</th>\n",
              "      <td>NCD19</td>\n",
              "      <td>8.93</td>\n",
              "      <td>1</td>\n",
              "      <td>0.016164</td>\n",
              "      <td>Household</td>\n",
              "      <td>53.8614</td>\n",
              "      <td>OUT013</td>\n",
              "      <td>1987</td>\n",
              "      <td>3</td>\n",
              "      <td>3</td>\n",
              "      <td>Supermarket Type1</td>\n",
              "      <td>994.7052</td>\n",
              "    </tr>\n",
              "  </tbody>\n",
              "</table>\n",
              "</div>"
            ],
            "text/plain": [
              "  Item_Identifier  Item_Weight  ...        Outlet_Type  Item_Outlet_Sales\n",
              "0           FDA15         9.30  ...  Supermarket Type1          3735.1380\n",
              "1           DRC01         5.92  ...  Supermarket Type2           443.4228\n",
              "2           FDN15        17.50  ...  Supermarket Type1          2097.2700\n",
              "3           FDX07        19.20  ...      Grocery Store           732.3800\n",
              "4           NCD19         8.93  ...  Supermarket Type1           994.7052\n",
              "\n",
              "[5 rows x 12 columns]"
            ]
          },
          "metadata": {
            "tags": []
          },
          "execution_count": 423
        }
      ]
    },
    {
      "cell_type": "code",
      "metadata": {
        "id": "yrpr_f_xXsfm",
        "colab_type": "code",
        "colab": {
          "base_uri": "https://localhost:8080/",
          "height": 309
        },
        "outputId": "28edb019-3cd6-4d4c-e290-79b6b821457d"
      },
      "source": [
        "test_df['Item_Fat_Content'] = test_df['Item_Fat_Content'].replace('Low Fat', '1')\n",
        "test_df['Item_Fat_Content'] = test_df['Item_Fat_Content'].replace('Regular', '2')\n",
        "\n",
        "replacement = {'Small':1, 'Medium':2, 'High':3}\n",
        "test_df['Outlet_Size'] = test_df['Outlet_Size'].map(replacement)\n",
        "\n",
        "test_df['Outlet_Location_Type'] = test_df['Outlet_Location_Type'].replace('Tier 1', '1')\n",
        "test_df['Outlet_Location_Type'] = test_df['Outlet_Location_Type'].replace('Tier 2', '2')\n",
        "test_df['Outlet_Location_Type'] = test_df['Outlet_Location_Type'].replace('Tier 3', '3')\n",
        "test_df.head()"
      ],
      "execution_count": 424,
      "outputs": [
        {
          "output_type": "execute_result",
          "data": {
            "text/html": [
              "<div>\n",
              "<style scoped>\n",
              "    .dataframe tbody tr th:only-of-type {\n",
              "        vertical-align: middle;\n",
              "    }\n",
              "\n",
              "    .dataframe tbody tr th {\n",
              "        vertical-align: top;\n",
              "    }\n",
              "\n",
              "    .dataframe thead th {\n",
              "        text-align: right;\n",
              "    }\n",
              "</style>\n",
              "<table border=\"1\" class=\"dataframe\">\n",
              "  <thead>\n",
              "    <tr style=\"text-align: right;\">\n",
              "      <th></th>\n",
              "      <th>Item_Identifier</th>\n",
              "      <th>Item_Weight</th>\n",
              "      <th>Item_Fat_Content</th>\n",
              "      <th>Item_Visibility</th>\n",
              "      <th>Item_Type</th>\n",
              "      <th>Item_MRP</th>\n",
              "      <th>Outlet_Identifier</th>\n",
              "      <th>Outlet_Establishment_Year</th>\n",
              "      <th>Outlet_Size</th>\n",
              "      <th>Outlet_Location_Type</th>\n",
              "      <th>Outlet_Type</th>\n",
              "    </tr>\n",
              "  </thead>\n",
              "  <tbody>\n",
              "    <tr>\n",
              "      <th>0</th>\n",
              "      <td>FDW58</td>\n",
              "      <td>20.750</td>\n",
              "      <td>1</td>\n",
              "      <td>0.007565</td>\n",
              "      <td>Snack Foods</td>\n",
              "      <td>107.8622</td>\n",
              "      <td>OUT049</td>\n",
              "      <td>1999</td>\n",
              "      <td>2</td>\n",
              "      <td>1</td>\n",
              "      <td>Supermarket Type1</td>\n",
              "    </tr>\n",
              "    <tr>\n",
              "      <th>1</th>\n",
              "      <td>FDW14</td>\n",
              "      <td>8.300</td>\n",
              "      <td>2</td>\n",
              "      <td>0.038428</td>\n",
              "      <td>Dairy</td>\n",
              "      <td>87.3198</td>\n",
              "      <td>OUT017</td>\n",
              "      <td>2007</td>\n",
              "      <td>1</td>\n",
              "      <td>2</td>\n",
              "      <td>Supermarket Type1</td>\n",
              "    </tr>\n",
              "    <tr>\n",
              "      <th>2</th>\n",
              "      <td>NCN55</td>\n",
              "      <td>14.600</td>\n",
              "      <td>1</td>\n",
              "      <td>0.099575</td>\n",
              "      <td>Others</td>\n",
              "      <td>241.7538</td>\n",
              "      <td>OUT010</td>\n",
              "      <td>1998</td>\n",
              "      <td>3</td>\n",
              "      <td>3</td>\n",
              "      <td>Grocery Store</td>\n",
              "    </tr>\n",
              "    <tr>\n",
              "      <th>3</th>\n",
              "      <td>FDQ58</td>\n",
              "      <td>7.315</td>\n",
              "      <td>1</td>\n",
              "      <td>0.015388</td>\n",
              "      <td>Snack Foods</td>\n",
              "      <td>155.0340</td>\n",
              "      <td>OUT017</td>\n",
              "      <td>2007</td>\n",
              "      <td>1</td>\n",
              "      <td>2</td>\n",
              "      <td>Supermarket Type1</td>\n",
              "    </tr>\n",
              "    <tr>\n",
              "      <th>4</th>\n",
              "      <td>FDY38</td>\n",
              "      <td>13.600</td>\n",
              "      <td>2</td>\n",
              "      <td>0.118599</td>\n",
              "      <td>Dairy</td>\n",
              "      <td>234.2300</td>\n",
              "      <td>OUT027</td>\n",
              "      <td>1985</td>\n",
              "      <td>2</td>\n",
              "      <td>3</td>\n",
              "      <td>Supermarket Type3</td>\n",
              "    </tr>\n",
              "  </tbody>\n",
              "</table>\n",
              "</div>"
            ],
            "text/plain": [
              "  Item_Identifier  Item_Weight  ... Outlet_Location_Type        Outlet_Type\n",
              "0           FDW58       20.750  ...                    1  Supermarket Type1\n",
              "1           FDW14        8.300  ...                    2  Supermarket Type1\n",
              "2           NCN55       14.600  ...                    3      Grocery Store\n",
              "3           FDQ58        7.315  ...                    2  Supermarket Type1\n",
              "4           FDY38       13.600  ...                    3  Supermarket Type3\n",
              "\n",
              "[5 rows x 11 columns]"
            ]
          },
          "metadata": {
            "tags": []
          },
          "execution_count": 424
        }
      ]
    },
    {
      "cell_type": "code",
      "metadata": {
        "id": "9vwoG_k3xsIa",
        "colab_type": "code",
        "colab": {}
      },
      "source": [
        "converted_df = sales_df.copy()"
      ],
      "execution_count": 0,
      "outputs": []
    },
    {
      "cell_type": "code",
      "metadata": {
        "id": "9ZPbLNdjiXVK",
        "colab_type": "code",
        "colab": {
          "base_uri": "https://localhost:8080/",
          "height": 241
        },
        "outputId": "b31ef6d4-f40d-4250-e883-8fd157294a91"
      },
      "source": [
        "converted_df = pd.get_dummies(converted_df,columns=[\"Item_Type\", \"Outlet_Identifier\", \"Outlet_Type\"])\n",
        "converted_df.head()"
      ],
      "execution_count": 426,
      "outputs": [
        {
          "output_type": "execute_result",
          "data": {
            "text/html": [
              "<div>\n",
              "<style scoped>\n",
              "    .dataframe tbody tr th:only-of-type {\n",
              "        vertical-align: middle;\n",
              "    }\n",
              "\n",
              "    .dataframe tbody tr th {\n",
              "        vertical-align: top;\n",
              "    }\n",
              "\n",
              "    .dataframe thead th {\n",
              "        text-align: right;\n",
              "    }\n",
              "</style>\n",
              "<table border=\"1\" class=\"dataframe\">\n",
              "  <thead>\n",
              "    <tr style=\"text-align: right;\">\n",
              "      <th></th>\n",
              "      <th>Item_Identifier</th>\n",
              "      <th>Item_Weight</th>\n",
              "      <th>Item_Fat_Content</th>\n",
              "      <th>Item_Visibility</th>\n",
              "      <th>Item_MRP</th>\n",
              "      <th>Outlet_Establishment_Year</th>\n",
              "      <th>Outlet_Size</th>\n",
              "      <th>Outlet_Location_Type</th>\n",
              "      <th>Item_Outlet_Sales</th>\n",
              "      <th>Item_Type_Baking Goods</th>\n",
              "      <th>Item_Type_Breads</th>\n",
              "      <th>Item_Type_Breakfast</th>\n",
              "      <th>Item_Type_Canned</th>\n",
              "      <th>Item_Type_Dairy</th>\n",
              "      <th>Item_Type_Frozen Foods</th>\n",
              "      <th>Item_Type_Fruits and Vegetables</th>\n",
              "      <th>Item_Type_Hard Drinks</th>\n",
              "      <th>Item_Type_Health and Hygiene</th>\n",
              "      <th>Item_Type_Household</th>\n",
              "      <th>Item_Type_Meat</th>\n",
              "      <th>Item_Type_Others</th>\n",
              "      <th>Item_Type_Seafood</th>\n",
              "      <th>Item_Type_Snack Foods</th>\n",
              "      <th>Item_Type_Soft Drinks</th>\n",
              "      <th>Item_Type_Starchy Foods</th>\n",
              "      <th>Outlet_Identifier_OUT010</th>\n",
              "      <th>Outlet_Identifier_OUT013</th>\n",
              "      <th>Outlet_Identifier_OUT017</th>\n",
              "      <th>Outlet_Identifier_OUT018</th>\n",
              "      <th>Outlet_Identifier_OUT019</th>\n",
              "      <th>Outlet_Identifier_OUT027</th>\n",
              "      <th>Outlet_Identifier_OUT035</th>\n",
              "      <th>Outlet_Identifier_OUT045</th>\n",
              "      <th>Outlet_Identifier_OUT046</th>\n",
              "      <th>Outlet_Identifier_OUT049</th>\n",
              "      <th>Outlet_Type_Grocery Store</th>\n",
              "      <th>Outlet_Type_Supermarket Type1</th>\n",
              "      <th>Outlet_Type_Supermarket Type2</th>\n",
              "      <th>Outlet_Type_Supermarket Type3</th>\n",
              "    </tr>\n",
              "  </thead>\n",
              "  <tbody>\n",
              "    <tr>\n",
              "      <th>0</th>\n",
              "      <td>FDA15</td>\n",
              "      <td>9.30</td>\n",
              "      <td>1</td>\n",
              "      <td>0.016047</td>\n",
              "      <td>249.8092</td>\n",
              "      <td>1999</td>\n",
              "      <td>2</td>\n",
              "      <td>1</td>\n",
              "      <td>3735.1380</td>\n",
              "      <td>0</td>\n",
              "      <td>0</td>\n",
              "      <td>0</td>\n",
              "      <td>0</td>\n",
              "      <td>1</td>\n",
              "      <td>0</td>\n",
              "      <td>0</td>\n",
              "      <td>0</td>\n",
              "      <td>0</td>\n",
              "      <td>0</td>\n",
              "      <td>0</td>\n",
              "      <td>0</td>\n",
              "      <td>0</td>\n",
              "      <td>0</td>\n",
              "      <td>0</td>\n",
              "      <td>0</td>\n",
              "      <td>0</td>\n",
              "      <td>0</td>\n",
              "      <td>0</td>\n",
              "      <td>0</td>\n",
              "      <td>0</td>\n",
              "      <td>0</td>\n",
              "      <td>0</td>\n",
              "      <td>0</td>\n",
              "      <td>0</td>\n",
              "      <td>1</td>\n",
              "      <td>0</td>\n",
              "      <td>1</td>\n",
              "      <td>0</td>\n",
              "      <td>0</td>\n",
              "    </tr>\n",
              "    <tr>\n",
              "      <th>1</th>\n",
              "      <td>DRC01</td>\n",
              "      <td>5.92</td>\n",
              "      <td>2</td>\n",
              "      <td>0.019278</td>\n",
              "      <td>48.2692</td>\n",
              "      <td>2009</td>\n",
              "      <td>2</td>\n",
              "      <td>3</td>\n",
              "      <td>443.4228</td>\n",
              "      <td>0</td>\n",
              "      <td>0</td>\n",
              "      <td>0</td>\n",
              "      <td>0</td>\n",
              "      <td>0</td>\n",
              "      <td>0</td>\n",
              "      <td>0</td>\n",
              "      <td>0</td>\n",
              "      <td>0</td>\n",
              "      <td>0</td>\n",
              "      <td>0</td>\n",
              "      <td>0</td>\n",
              "      <td>0</td>\n",
              "      <td>0</td>\n",
              "      <td>1</td>\n",
              "      <td>0</td>\n",
              "      <td>0</td>\n",
              "      <td>0</td>\n",
              "      <td>0</td>\n",
              "      <td>1</td>\n",
              "      <td>0</td>\n",
              "      <td>0</td>\n",
              "      <td>0</td>\n",
              "      <td>0</td>\n",
              "      <td>0</td>\n",
              "      <td>0</td>\n",
              "      <td>0</td>\n",
              "      <td>0</td>\n",
              "      <td>1</td>\n",
              "      <td>0</td>\n",
              "    </tr>\n",
              "    <tr>\n",
              "      <th>2</th>\n",
              "      <td>FDN15</td>\n",
              "      <td>17.50</td>\n",
              "      <td>1</td>\n",
              "      <td>0.016760</td>\n",
              "      <td>141.6180</td>\n",
              "      <td>1999</td>\n",
              "      <td>2</td>\n",
              "      <td>1</td>\n",
              "      <td>2097.2700</td>\n",
              "      <td>0</td>\n",
              "      <td>0</td>\n",
              "      <td>0</td>\n",
              "      <td>0</td>\n",
              "      <td>0</td>\n",
              "      <td>0</td>\n",
              "      <td>0</td>\n",
              "      <td>0</td>\n",
              "      <td>0</td>\n",
              "      <td>0</td>\n",
              "      <td>1</td>\n",
              "      <td>0</td>\n",
              "      <td>0</td>\n",
              "      <td>0</td>\n",
              "      <td>0</td>\n",
              "      <td>0</td>\n",
              "      <td>0</td>\n",
              "      <td>0</td>\n",
              "      <td>0</td>\n",
              "      <td>0</td>\n",
              "      <td>0</td>\n",
              "      <td>0</td>\n",
              "      <td>0</td>\n",
              "      <td>0</td>\n",
              "      <td>0</td>\n",
              "      <td>1</td>\n",
              "      <td>0</td>\n",
              "      <td>1</td>\n",
              "      <td>0</td>\n",
              "      <td>0</td>\n",
              "    </tr>\n",
              "    <tr>\n",
              "      <th>3</th>\n",
              "      <td>FDX07</td>\n",
              "      <td>19.20</td>\n",
              "      <td>2</td>\n",
              "      <td>0.022911</td>\n",
              "      <td>182.0950</td>\n",
              "      <td>1998</td>\n",
              "      <td>3</td>\n",
              "      <td>3</td>\n",
              "      <td>732.3800</td>\n",
              "      <td>0</td>\n",
              "      <td>0</td>\n",
              "      <td>0</td>\n",
              "      <td>0</td>\n",
              "      <td>0</td>\n",
              "      <td>0</td>\n",
              "      <td>1</td>\n",
              "      <td>0</td>\n",
              "      <td>0</td>\n",
              "      <td>0</td>\n",
              "      <td>0</td>\n",
              "      <td>0</td>\n",
              "      <td>0</td>\n",
              "      <td>0</td>\n",
              "      <td>0</td>\n",
              "      <td>0</td>\n",
              "      <td>1</td>\n",
              "      <td>0</td>\n",
              "      <td>0</td>\n",
              "      <td>0</td>\n",
              "      <td>0</td>\n",
              "      <td>0</td>\n",
              "      <td>0</td>\n",
              "      <td>0</td>\n",
              "      <td>0</td>\n",
              "      <td>0</td>\n",
              "      <td>1</td>\n",
              "      <td>0</td>\n",
              "      <td>0</td>\n",
              "      <td>0</td>\n",
              "    </tr>\n",
              "    <tr>\n",
              "      <th>4</th>\n",
              "      <td>NCD19</td>\n",
              "      <td>8.93</td>\n",
              "      <td>1</td>\n",
              "      <td>0.016164</td>\n",
              "      <td>53.8614</td>\n",
              "      <td>1987</td>\n",
              "      <td>3</td>\n",
              "      <td>3</td>\n",
              "      <td>994.7052</td>\n",
              "      <td>0</td>\n",
              "      <td>0</td>\n",
              "      <td>0</td>\n",
              "      <td>0</td>\n",
              "      <td>0</td>\n",
              "      <td>0</td>\n",
              "      <td>0</td>\n",
              "      <td>0</td>\n",
              "      <td>0</td>\n",
              "      <td>1</td>\n",
              "      <td>0</td>\n",
              "      <td>0</td>\n",
              "      <td>0</td>\n",
              "      <td>0</td>\n",
              "      <td>0</td>\n",
              "      <td>0</td>\n",
              "      <td>0</td>\n",
              "      <td>1</td>\n",
              "      <td>0</td>\n",
              "      <td>0</td>\n",
              "      <td>0</td>\n",
              "      <td>0</td>\n",
              "      <td>0</td>\n",
              "      <td>0</td>\n",
              "      <td>0</td>\n",
              "      <td>0</td>\n",
              "      <td>0</td>\n",
              "      <td>1</td>\n",
              "      <td>0</td>\n",
              "      <td>0</td>\n",
              "    </tr>\n",
              "  </tbody>\n",
              "</table>\n",
              "</div>"
            ],
            "text/plain": [
              "  Item_Identifier  ...  Outlet_Type_Supermarket Type3\n",
              "0           FDA15  ...                              0\n",
              "1           DRC01  ...                              0\n",
              "2           FDN15  ...                              0\n",
              "3           FDX07  ...                              0\n",
              "4           NCD19  ...                              0\n",
              "\n",
              "[5 rows x 39 columns]"
            ]
          },
          "metadata": {
            "tags": []
          },
          "execution_count": 426
        }
      ]
    },
    {
      "cell_type": "code",
      "metadata": {
        "id": "vSuTxYs-kxyk",
        "colab_type": "code",
        "colab": {
          "base_uri": "https://localhost:8080/",
          "height": 306
        },
        "outputId": "214065a2-cfaf-4073-ccb0-5bb0cb246668"
      },
      "source": [
        "converted_df.columns"
      ],
      "execution_count": 427,
      "outputs": [
        {
          "output_type": "execute_result",
          "data": {
            "text/plain": [
              "Index(['Item_Identifier', 'Item_Weight', 'Item_Fat_Content', 'Item_Visibility',\n",
              "       'Item_MRP', 'Outlet_Establishment_Year', 'Outlet_Size',\n",
              "       'Outlet_Location_Type', 'Item_Outlet_Sales', 'Item_Type_Baking Goods',\n",
              "       'Item_Type_Breads', 'Item_Type_Breakfast', 'Item_Type_Canned',\n",
              "       'Item_Type_Dairy', 'Item_Type_Frozen Foods',\n",
              "       'Item_Type_Fruits and Vegetables', 'Item_Type_Hard Drinks',\n",
              "       'Item_Type_Health and Hygiene', 'Item_Type_Household', 'Item_Type_Meat',\n",
              "       'Item_Type_Others', 'Item_Type_Seafood', 'Item_Type_Snack Foods',\n",
              "       'Item_Type_Soft Drinks', 'Item_Type_Starchy Foods',\n",
              "       'Outlet_Identifier_OUT010', 'Outlet_Identifier_OUT013',\n",
              "       'Outlet_Identifier_OUT017', 'Outlet_Identifier_OUT018',\n",
              "       'Outlet_Identifier_OUT019', 'Outlet_Identifier_OUT027',\n",
              "       'Outlet_Identifier_OUT035', 'Outlet_Identifier_OUT045',\n",
              "       'Outlet_Identifier_OUT046', 'Outlet_Identifier_OUT049',\n",
              "       'Outlet_Type_Grocery Store', 'Outlet_Type_Supermarket Type1',\n",
              "       'Outlet_Type_Supermarket Type2', 'Outlet_Type_Supermarket Type3'],\n",
              "      dtype='object')"
            ]
          },
          "metadata": {
            "tags": []
          },
          "execution_count": 427
        }
      ]
    },
    {
      "cell_type": "markdown",
      "metadata": {
        "id": "YBs-SfDDEQWF",
        "colab_type": "text"
      },
      "source": [
        "## first try to encode Item_Identifier with label encoder which encode the calsess with numbers of [0-(No.classes - 1)]"
      ]
    },
    {
      "cell_type": "code",
      "metadata": {
        "id": "X49a9eQNGfBD",
        "colab_type": "code",
        "colab": {}
      },
      "source": [
        "le_df = converted_df.copy()"
      ],
      "execution_count": 0,
      "outputs": []
    },
    {
      "cell_type": "code",
      "metadata": {
        "id": "9czHOtUoCt04",
        "colab_type": "code",
        "colab": {}
      },
      "source": [
        "le=LabelEncoder()\n",
        "le_df['Item_Identifier'] = le.fit_transform(le_df['Item_Identifier'])"
      ],
      "execution_count": 0,
      "outputs": []
    },
    {
      "cell_type": "code",
      "metadata": {
        "id": "ZtQtKiUXCt1d",
        "colab_type": "code",
        "colab": {}
      },
      "source": [
        "colss = ['Item_Identifier', 'Item_Weight', 'Item_Fat_Content', 'Item_Visibility',\n",
        "       'Item_MRP', 'Outlet_Establishment_Year', 'Outlet_Size',\n",
        "       'Outlet_Location_Type', 'Item_Type_Breads', 'Item_Type_Breakfast', 'Item_Type_Canned',\n",
        "       'Item_Type_Dairy', 'Item_Type_Frozen Foods',\n",
        "       'Item_Type_Fruits and Vegetables', 'Item_Type_Hard Drinks',\n",
        "       'Item_Type_Health and Hygiene', 'Item_Type_Household', 'Item_Type_Meat',\n",
        "       'Item_Type_Others', 'Item_Type_Seafood', 'Item_Type_Snack Foods',\n",
        "       'Item_Type_Soft Drinks', 'Item_Type_Starchy Foods',\n",
        "       'Outlet_Identifier_OUT013', 'Outlet_Identifier_OUT017',\n",
        "       'Outlet_Identifier_OUT018', 'Outlet_Identifier_OUT019',\n",
        "       'Outlet_Identifier_OUT027', 'Outlet_Identifier_OUT035',\n",
        "       'Outlet_Identifier_OUT045', 'Outlet_Identifier_OUT046',\n",
        "       'Outlet_Identifier_OUT049', 'Outlet_Type_Supermarket Type1',\n",
        "       'Outlet_Type_Supermarket Type2', 'Outlet_Type_Supermarket Type3']\n",
        "le_Xtrain = le_df[colss]\n",
        "#Xtrain.drop('Item_Sales', axis =1, inplace=True)\n",
        "#Ytrain = sales_df.pop('Item_Outlet_Sales')\n",
        "Ytrain = le_df['Item_Outlet_Sales']"
      ],
      "execution_count": 0,
      "outputs": []
    },
    {
      "cell_type": "code",
      "metadata": {
        "id": "VoY9xf5At7rt",
        "colab_type": "code",
        "outputId": "dc0af668-6c05-43f0-d9e8-6ab482b8138c",
        "colab": {
          "base_uri": "https://localhost:8080/",
          "height": 34
        }
      },
      "source": [
        "set(le_Xtrain.Outlet_Size)"
      ],
      "execution_count": 431,
      "outputs": [
        {
          "output_type": "execute_result",
          "data": {
            "text/plain": [
              "{1, 2, 3}"
            ]
          },
          "metadata": {
            "tags": []
          },
          "execution_count": 431
        }
      ]
    },
    {
      "cell_type": "code",
      "metadata": {
        "id": "zOrt9-ois5qd",
        "colab_type": "code",
        "outputId": "59161ee6-4817-4ec1-b8cb-386273c9846c",
        "colab": {
          "base_uri": "https://localhost:8080/",
          "height": 34
        }
      },
      "source": [
        "le_Xtrain.shape"
      ],
      "execution_count": 432,
      "outputs": [
        {
          "output_type": "execute_result",
          "data": {
            "text/plain": [
              "(8523, 35)"
            ]
          },
          "metadata": {
            "tags": []
          },
          "execution_count": 432
        }
      ]
    },
    {
      "cell_type": "code",
      "metadata": {
        "id": "XgK9a6GZ4sIj",
        "colab_type": "code",
        "outputId": "b62b5855-4f3b-4d5b-f6ef-b3d0ee3b219d",
        "colab": {
          "base_uri": "https://localhost:8080/",
          "height": 119
        }
      },
      "source": [
        "Ytrain.head()"
      ],
      "execution_count": 433,
      "outputs": [
        {
          "output_type": "execute_result",
          "data": {
            "text/plain": [
              "0    3735.1380\n",
              "1     443.4228\n",
              "2    2097.2700\n",
              "3     732.3800\n",
              "4     994.7052\n",
              "Name: Item_Outlet_Sales, dtype: float64"
            ]
          },
          "metadata": {
            "tags": []
          },
          "execution_count": 433
        }
      ]
    },
    {
      "cell_type": "markdown",
      "metadata": {
        "id": "ahOY4IvoqowT",
        "colab_type": "text"
      },
      "source": [
        "## Linear Regression"
      ]
    },
    {
      "cell_type": "code",
      "metadata": {
        "id": "xc0kg4pOCt1n",
        "colab_type": "code",
        "outputId": "c86a3d17-a236-4ee4-8f98-10f124e848d7",
        "colab": {
          "base_uri": "https://localhost:8080/",
          "height": 34
        }
      },
      "source": [
        "\n",
        "from sklearn.linear_model import LinearRegression\n",
        "from sklearn.preprocessing import PolynomialFeatures\n",
        "from sklearn.metrics import mean_squared_error\n",
        "from sklearn.model_selection import train_test_split\n",
        "from sklearn.preprocessing import MinMaxScaler\n",
        "\n",
        "sc = MinMaxScaler().fit(le_Xtrain)\n",
        "le_Xtrain = sc.transform(le_Xtrain)\n",
        "\n",
        "\n",
        "XX_train, XX_test, yy_train, yy_test = train_test_split(le_Xtrain, Ytrain, test_size=0.3, random_state=5)\n",
        "\n",
        "from sklearn import linear_model\n",
        "reg = linear_model.LinearRegression(fit_intercept=True,normalize=True)\n",
        "reg.fit (XX_train,yy_train)"
      ],
      "execution_count": 434,
      "outputs": [
        {
          "output_type": "execute_result",
          "data": {
            "text/plain": [
              "LinearRegression(copy_X=True, fit_intercept=True, n_jobs=None, normalize=True)"
            ]
          },
          "metadata": {
            "tags": []
          },
          "execution_count": 434
        }
      ]
    },
    {
      "cell_type": "code",
      "metadata": {
        "id": "BkxstKTACt16",
        "colab_type": "code",
        "outputId": "ac42fe85-41ea-44b3-c844-c1c688841f2d",
        "colab": {
          "base_uri": "https://localhost:8080/",
          "height": 34
        }
      },
      "source": [
        "yy_predicted = reg.predict(XX_test)\n",
        "\n",
        "leRMSE = np.sqrt(mean_squared_error(y_true=yy_test, y_pred=yy_predicted))\n",
        "leRMSE/(np.max(yy_test)-np.min(yy_test)) # Normalizing RMSE"
      ],
      "execution_count": 435,
      "outputs": [
        {
          "output_type": "execute_result",
          "data": {
            "text/plain": [
              "0.08724093843832374"
            ]
          },
          "metadata": {
            "tags": []
          },
          "execution_count": 435
        }
      ]
    },
    {
      "cell_type": "markdown",
      "metadata": {
        "id": "vjvFnKeHgrQT",
        "colab_type": "text"
      },
      "source": [
        "##GradientBoost Regressor"
      ]
    },
    {
      "cell_type": "code",
      "metadata": {
        "id": "_qxCE-yDgoj0",
        "colab_type": "code",
        "colab": {}
      },
      "source": [
        "from sklearn.ensemble import GradientBoostingRegressor"
      ],
      "execution_count": 0,
      "outputs": []
    },
    {
      "cell_type": "code",
      "metadata": {
        "id": "oYI7f-dSiCy0",
        "colab_type": "code",
        "outputId": "395447b2-f155-427a-c418-378e0de2ccc6",
        "colab": {
          "base_uri": "https://localhost:8080/",
          "height": 34
        }
      },
      "source": [
        "GBR =GradientBoostingRegressor()\n",
        "GBR.fit(XX_train, yy_train)\n",
        "ypredict = GBR.predict(XX_test)\n",
        "GB_RMSE = np.sqrt(mean_squared_error(yy_test,yy_predicted))\n",
        "GB_RMSE/(np.max(yy_test)-np.min(yy_test)) # Normalizing RMSE"
      ],
      "execution_count": 437,
      "outputs": [
        {
          "output_type": "execute_result",
          "data": {
            "text/plain": [
              "0.08724093843832374"
            ]
          },
          "metadata": {
            "tags": []
          },
          "execution_count": 437
        }
      ]
    },
    {
      "cell_type": "markdown",
      "metadata": {
        "id": "H49oE7BRFpaR",
        "colab_type": "text"
      },
      "source": [
        "## now we try with Catboost Regressor and encod with CatBoost instead of label encoder"
      ]
    },
    {
      "cell_type": "code",
      "metadata": {
        "id": "nagSCwZNJJ8M",
        "colab_type": "code",
        "colab": {
          "base_uri": "https://localhost:8080/",
          "height": 238
        },
        "outputId": "59bd26fb-e493-460d-9c08-7fff8c18353c"
      },
      "source": [
        "sales_df.dtypes"
      ],
      "execution_count": 438,
      "outputs": [
        {
          "output_type": "execute_result",
          "data": {
            "text/plain": [
              "Item_Identifier               object\n",
              "Item_Weight                  float64\n",
              "Item_Fat_Content               int64\n",
              "Item_Visibility              float64\n",
              "Item_Type                     object\n",
              "Item_MRP                     float64\n",
              "Outlet_Identifier             object\n",
              "Outlet_Establishment_Year      int64\n",
              "Outlet_Size                    int64\n",
              "Outlet_Location_Type           int64\n",
              "Outlet_Type                   object\n",
              "Item_Outlet_Sales            float64\n",
              "dtype: object"
            ]
          },
          "metadata": {
            "tags": []
          },
          "execution_count": 438
        }
      ]
    },
    {
      "cell_type": "code",
      "metadata": {
        "id": "w_MgueWIF5-_",
        "colab_type": "code",
        "colab": {
          "base_uri": "https://localhost:8080/",
          "height": 34
        },
        "outputId": "e0456837-6494-4e12-f4b5-ac8f2e4d6522"
      },
      "source": [
        "categorical_features_indices = np.where(sales_df.dtypes == np.object)[0]\n",
        "categorical_features_indices"
      ],
      "execution_count": 439,
      "outputs": [
        {
          "output_type": "execute_result",
          "data": {
            "text/plain": [
              "array([ 0,  4,  6, 10])"
            ]
          },
          "metadata": {
            "tags": []
          },
          "execution_count": 439
        }
      ]
    },
    {
      "cell_type": "code",
      "metadata": {
        "id": "oSNqi17HdTkU",
        "colab_type": "code",
        "colab": {}
      },
      "source": [
        "cat_Xtrain = sales_df.drop(['Item_Outlet_Sales'], axis=1)\n",
        "cat_Ytrain = sales_df['Item_Outlet_Sales']"
      ],
      "execution_count": 0,
      "outputs": []
    },
    {
      "cell_type": "code",
      "metadata": {
        "id": "MqraeYRjhHw9",
        "colab_type": "code",
        "colab": {}
      },
      "source": [
        "catX_train, catX_test, catY_train, catY_test = train_test_split(cat_Xtrain, cat_Ytrain, test_size=0.3, random_state=5)"
      ],
      "execution_count": 0,
      "outputs": []
    },
    {
      "cell_type": "code",
      "metadata": {
        "id": "SF8YGJQkdD5Y",
        "colab_type": "code",
        "colab": {
          "base_uri": "https://localhost:8080/",
          "height": 952
        },
        "outputId": "c4fd2697-317d-4ac3-cb1d-2429197800cc"
      },
      "source": [
        "from catboost import CatBoostRegressor\n",
        "cat_model = CatBoostRegressor(iterations=50, depth=3, learning_rate=0.1, loss_function='RMSE')\n",
        "cat_model.fit(cat_Xtrain, cat_Ytrain, cat_features=categorical_features_indices, eval_set=(catX_test, catY_test))"
      ],
      "execution_count": 448,
      "outputs": [
        {
          "output_type": "stream",
          "text": [
            "0:\tlearn: 2556.5839220\ttest: 2554.7791660\tbest: 2554.7791660 (0)\ttotal: 6.88ms\tremaining: 337ms\n",
            "1:\tlearn: 2368.1581132\ttest: 2365.0018206\tbest: 2365.0018206 (1)\ttotal: 12.9ms\tremaining: 310ms\n",
            "2:\tlearn: 2194.8177528\ttest: 2190.2288736\tbest: 2190.2288736 (2)\ttotal: 18.5ms\tremaining: 290ms\n",
            "3:\tlearn: 2044.2226918\ttest: 2039.4087731\tbest: 2039.4087731 (3)\ttotal: 23.8ms\tremaining: 273ms\n",
            "4:\tlearn: 1909.2997697\ttest: 1903.8221559\tbest: 1903.8221559 (4)\ttotal: 28.9ms\tremaining: 260ms\n",
            "5:\tlearn: 1794.4478285\ttest: 1786.9854355\tbest: 1786.9854355 (5)\ttotal: 34.1ms\tremaining: 250ms\n",
            "6:\tlearn: 1695.0738831\ttest: 1686.9841109\tbest: 1686.9841109 (6)\ttotal: 39.2ms\tremaining: 241ms\n",
            "7:\tlearn: 1606.7985737\ttest: 1598.6937473\tbest: 1598.6937473 (7)\ttotal: 44.8ms\tremaining: 235ms\n",
            "8:\tlearn: 1530.5101995\ttest: 1522.3565320\tbest: 1522.3565320 (8)\ttotal: 49.8ms\tremaining: 227ms\n",
            "9:\tlearn: 1465.2070867\ttest: 1456.5100642\tbest: 1456.5100642 (9)\ttotal: 55.5ms\tremaining: 222ms\n",
            "10:\tlearn: 1409.9267055\ttest: 1400.0922052\tbest: 1400.0922052 (10)\ttotal: 60.7ms\tremaining: 215ms\n",
            "11:\tlearn: 1362.9286971\ttest: 1352.9414946\tbest: 1352.9414946 (11)\ttotal: 66ms\tremaining: 209ms\n",
            "12:\tlearn: 1319.2677691\ttest: 1309.9082621\tbest: 1309.9082621 (12)\ttotal: 71.3ms\tremaining: 203ms\n",
            "13:\tlearn: 1282.6290431\ttest: 1273.7966613\tbest: 1273.7966613 (13)\ttotal: 76.4ms\tremaining: 196ms\n",
            "14:\tlearn: 1252.9350675\ttest: 1244.6786613\tbest: 1244.6786613 (14)\ttotal: 81.7ms\tremaining: 191ms\n",
            "15:\tlearn: 1227.2900935\ttest: 1219.8636324\tbest: 1219.8636324 (15)\ttotal: 86.9ms\tremaining: 185ms\n",
            "16:\tlearn: 1205.2601983\ttest: 1197.9889717\tbest: 1197.9889717 (16)\ttotal: 92.8ms\tremaining: 180ms\n",
            "17:\tlearn: 1187.5562752\ttest: 1180.7500292\tbest: 1180.7500292 (17)\ttotal: 98ms\tremaining: 174ms\n",
            "18:\tlearn: 1170.9286043\ttest: 1165.2493439\tbest: 1165.2493439 (18)\ttotal: 104ms\tremaining: 169ms\n",
            "19:\tlearn: 1156.7399896\ttest: 1152.0628361\tbest: 1152.0628361 (19)\ttotal: 109ms\tremaining: 163ms\n",
            "20:\tlearn: 1145.7923677\ttest: 1141.8062734\tbest: 1141.8062734 (20)\ttotal: 114ms\tremaining: 157ms\n",
            "21:\tlearn: 1136.2894283\ttest: 1132.7253176\tbest: 1132.7253176 (21)\ttotal: 119ms\tremaining: 152ms\n",
            "22:\tlearn: 1129.5629076\ttest: 1126.7454414\tbest: 1126.7454414 (22)\ttotal: 125ms\tremaining: 146ms\n",
            "23:\tlearn: 1122.5707677\ttest: 1120.3487977\tbest: 1120.3487977 (23)\ttotal: 130ms\tremaining: 141ms\n",
            "24:\tlearn: 1117.0791780\ttest: 1115.4612774\tbest: 1115.4612774 (24)\ttotal: 135ms\tremaining: 135ms\n",
            "25:\tlearn: 1112.2999665\ttest: 1111.5032436\tbest: 1111.5032436 (25)\ttotal: 140ms\tremaining: 129ms\n",
            "26:\tlearn: 1107.0441170\ttest: 1106.9653498\tbest: 1106.9653498 (26)\ttotal: 145ms\tremaining: 123ms\n",
            "27:\tlearn: 1103.1152965\ttest: 1103.5520878\tbest: 1103.5520878 (27)\ttotal: 150ms\tremaining: 118ms\n",
            "28:\tlearn: 1099.4878974\ttest: 1099.9139077\tbest: 1099.9139077 (28)\ttotal: 155ms\tremaining: 112ms\n",
            "29:\tlearn: 1097.0882193\ttest: 1098.2172659\tbest: 1098.2172659 (29)\ttotal: 160ms\tremaining: 107ms\n",
            "30:\tlearn: 1093.9944905\ttest: 1095.8464398\tbest: 1095.8464398 (30)\ttotal: 165ms\tremaining: 101ms\n",
            "31:\tlearn: 1091.5229593\ttest: 1093.9363879\tbest: 1093.9363879 (31)\ttotal: 170ms\tremaining: 95.7ms\n",
            "32:\tlearn: 1090.4225313\ttest: 1093.4001917\tbest: 1093.4001917 (32)\ttotal: 175ms\tremaining: 90.1ms\n",
            "33:\tlearn: 1088.7395084\ttest: 1092.0365791\tbest: 1092.0365791 (33)\ttotal: 180ms\tremaining: 84.7ms\n",
            "34:\tlearn: 1087.1128468\ttest: 1090.9817751\tbest: 1090.9817751 (34)\ttotal: 185ms\tremaining: 79.3ms\n",
            "35:\tlearn: 1086.0363976\ttest: 1090.0947054\tbest: 1090.0947054 (35)\ttotal: 190ms\tremaining: 73.9ms\n",
            "36:\tlearn: 1084.9346637\ttest: 1089.7988528\tbest: 1089.7988528 (36)\ttotal: 195ms\tremaining: 68.7ms\n",
            "37:\tlearn: 1084.1152526\ttest: 1089.0835122\tbest: 1089.0835122 (37)\ttotal: 207ms\tremaining: 65.3ms\n",
            "38:\tlearn: 1083.0422426\ttest: 1088.4689101\tbest: 1088.4689101 (38)\ttotal: 212ms\tremaining: 59.9ms\n",
            "39:\tlearn: 1082.6841634\ttest: 1088.2011973\tbest: 1088.2011973 (39)\ttotal: 217ms\tremaining: 54.4ms\n",
            "40:\tlearn: 1082.0627836\ttest: 1087.8959785\tbest: 1087.8959785 (40)\ttotal: 223ms\tremaining: 48.9ms\n",
            "41:\tlearn: 1081.7555122\ttest: 1087.4185062\tbest: 1087.4185062 (41)\ttotal: 228ms\tremaining: 43.5ms\n",
            "42:\tlearn: 1081.0324312\ttest: 1086.7879464\tbest: 1086.7879464 (42)\ttotal: 233ms\tremaining: 38ms\n",
            "43:\tlearn: 1080.5771974\ttest: 1086.4871272\tbest: 1086.4871272 (43)\ttotal: 238ms\tremaining: 32.5ms\n",
            "44:\tlearn: 1079.8726692\ttest: 1086.0649206\tbest: 1086.0649206 (44)\ttotal: 244ms\tremaining: 27.1ms\n",
            "45:\tlearn: 1079.3563389\ttest: 1085.5331489\tbest: 1085.5331489 (45)\ttotal: 249ms\tremaining: 21.7ms\n",
            "46:\tlearn: 1079.1183394\ttest: 1085.4217371\tbest: 1085.4217371 (46)\ttotal: 255ms\tremaining: 16.3ms\n",
            "47:\tlearn: 1078.6635065\ttest: 1085.2369865\tbest: 1085.2369865 (47)\ttotal: 260ms\tremaining: 10.8ms\n",
            "48:\tlearn: 1078.2765438\ttest: 1084.9571407\tbest: 1084.9571407 (48)\ttotal: 265ms\tremaining: 5.42ms\n",
            "49:\tlearn: 1078.0307941\ttest: 1084.8363349\tbest: 1084.8363349 (49)\ttotal: 270ms\tremaining: 0us\n",
            "\n",
            "bestTest = 1084.836335\n",
            "bestIteration = 49\n",
            "\n"
          ],
          "name": "stdout"
        },
        {
          "output_type": "execute_result",
          "data": {
            "text/plain": [
              "<catboost.core.CatBoostRegressor at 0x7fbd05ce4b70>"
            ]
          },
          "metadata": {
            "tags": []
          },
          "execution_count": 448
        }
      ]
    },
    {
      "cell_type": "code",
      "metadata": {
        "id": "4lV7CEmLjB6Q",
        "colab_type": "code",
        "colab": {
          "base_uri": "https://localhost:8080/",
          "height": 34
        },
        "outputId": "2f826d8d-c422-442f-8542-f3199aa36a81"
      },
      "source": [
        "from sklearn.metrics import mean_squared_error\n",
        "\n",
        "prediction = cat_model.predict(catX_test)\n",
        "RMSE = np.sqrt(mean_squared_error(catY_test, prediction))\n",
        "RMSE/(np.max(catY_test)-np.min(catY_test)) # Normalizing RMSE"
      ],
      "execution_count": 449,
      "outputs": [
        {
          "output_type": "execute_result",
          "data": {
            "text/plain": [
              "0.08310581885302169"
            ]
          },
          "metadata": {
            "tags": []
          },
          "execution_count": 449
        }
      ]
    },
    {
      "cell_type": "markdown",
      "metadata": {
        "id": "aqZcugkDtlF8",
        "colab_type": "text"
      },
      "source": [
        "CatBoost Regressor has the smallest RMSE"
      ]
    },
    {
      "cell_type": "markdown",
      "metadata": {
        "id": "n2QxUMkStuaq",
        "colab_type": "text"
      },
      "source": [
        "now let's predict Test outcoms"
      ]
    },
    {
      "cell_type": "code",
      "metadata": {
        "id": "OjQShyDGt9qN",
        "colab_type": "code",
        "colab": {}
      },
      "source": [
        "submission = pd.DataFrame()\n",
        "submission['Item_Identifier'] = test_df['Item_Identifier']\n",
        "submission['Outlet_Identifier'] = test_df['Outlet_Identifier']\n",
        "submission['Item_Outlet_Sales'] = cat_model.predict(test_df)\n",
        "submission.to_csv(\"Submission.csv\")"
      ],
      "execution_count": 0,
      "outputs": []
    },
    {
      "cell_type": "code",
      "metadata": {
        "id": "xK5R2DjyuHWj",
        "colab_type": "code",
        "colab": {
          "base_uri": "https://localhost:8080/",
          "height": 297
        },
        "outputId": "eb460f17-a72e-435b-8ca8-7897d7f1a13a"
      },
      "source": [
        "submission.describe()"
      ],
      "execution_count": 452,
      "outputs": [
        {
          "output_type": "execute_result",
          "data": {
            "text/html": [
              "<div>\n",
              "<style scoped>\n",
              "    .dataframe tbody tr th:only-of-type {\n",
              "        vertical-align: middle;\n",
              "    }\n",
              "\n",
              "    .dataframe tbody tr th {\n",
              "        vertical-align: top;\n",
              "    }\n",
              "\n",
              "    .dataframe thead th {\n",
              "        text-align: right;\n",
              "    }\n",
              "</style>\n",
              "<table border=\"1\" class=\"dataframe\">\n",
              "  <thead>\n",
              "    <tr style=\"text-align: right;\">\n",
              "      <th></th>\n",
              "      <th>Item_Outlet_Sales</th>\n",
              "    </tr>\n",
              "  </thead>\n",
              "  <tbody>\n",
              "    <tr>\n",
              "      <th>count</th>\n",
              "      <td>5681.000000</td>\n",
              "    </tr>\n",
              "    <tr>\n",
              "      <th>mean</th>\n",
              "      <td>2183.962759</td>\n",
              "    </tr>\n",
              "    <tr>\n",
              "      <th>std</th>\n",
              "      <td>1280.061664</td>\n",
              "    </tr>\n",
              "    <tr>\n",
              "      <th>min</th>\n",
              "      <td>35.168052</td>\n",
              "    </tr>\n",
              "    <tr>\n",
              "      <th>25%</th>\n",
              "      <td>1094.892108</td>\n",
              "    </tr>\n",
              "    <tr>\n",
              "      <th>50%</th>\n",
              "      <td>2074.937730</td>\n",
              "    </tr>\n",
              "    <tr>\n",
              "      <th>75%</th>\n",
              "      <td>3073.390871</td>\n",
              "    </tr>\n",
              "    <tr>\n",
              "      <th>max</th>\n",
              "      <td>6148.190753</td>\n",
              "    </tr>\n",
              "  </tbody>\n",
              "</table>\n",
              "</div>"
            ],
            "text/plain": [
              "       Item_Outlet_Sales\n",
              "count        5681.000000\n",
              "mean         2183.962759\n",
              "std          1280.061664\n",
              "min            35.168052\n",
              "25%          1094.892108\n",
              "50%          2074.937730\n",
              "75%          3073.390871\n",
              "max          6148.190753"
            ]
          },
          "metadata": {
            "tags": []
          },
          "execution_count": 452
        }
      ]
    },
    {
      "cell_type": "code",
      "metadata": {
        "id": "cBNa-0tguMJy",
        "colab_type": "code",
        "colab": {}
      },
      "source": [
        ""
      ],
      "execution_count": 0,
      "outputs": []
    }
  ]
}
